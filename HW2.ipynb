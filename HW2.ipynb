{
 "cells": [
  {
   "cell_type": "markdown",
   "id": "1171fb23",
   "metadata": {
    "id": "qSfK3TzzOeBK",
    "tags": []
   },
   "source": [
    "# **#2 Homework: Classification**\n",
    "\n",
    "**Fundamentals of Data Science - Winter Semester 2024**\n",
    "\n",
    "##### Matteo Migliarini (TA), Matteo Rampolla (TA) and Prof. Indro Spinelli\n",
    "<migliarini.1886186@studenti.uniroma1.it>, <rampolla.1762214@studenti.uniroma1.it>, <spinelli@di.uniroma1.it>\n",
    "\n",
    "---\n",
    "\n",
    "*Note: your task is to fill in the missing code where you see `\"YOUR CODE HERE\"` and the text part `\"WRITE YOUR TEXT HERE\"` part corresponding to each subproblem and produce brief reports on the results whenever necessary. Note also that a part of this missing code is also distributed in the python files in the folder `libs/`*\n",
    "\n",
    "As part of the homework, provide the answer to questions in this notebook report-like manner. \n",
    "\n",
    "After you have implemented all the missing code in the required sections, you will be able to run all the code without any errors. \n",
    "\n",
    "We kindly ask you to double-check this since **all** the delivered homework will be executed.\n",
    "\n",
    "The completed exercise should be handed in as a single notebook file. Use Markdown to provide equations. Use the code sections to provide your scripts and the corresponding plots.\n",
    "\n",
    "-------------------------------------\n",
    "\n",
    "**Submit it** by sending an email to:\n",
    "\n",
    "<migliarini.1886186@studenti.uniroma1.it>, <rampolla.1762214@studenti.uniroma1.it> and <spinelli@di.uniroma1.it> **by 29th November, 23:59**.\n",
    "\n",
    "-------------------------------------\n",
    "\n",
    "**Outline and Scores for #2 Homework:**\n",
    "\n",
    "\n",
    "* **Question 1: Logistic Regression** *(6 points)*\n",
    "  * **1.1: Log-likelihood and Gradient Ascent rule** (1 points)\n",
    "  * **1.2: Implementation of Logistic Regression with Gradient Ascent** (2 points)\n",
    "  * **1.3: Report** (3 points)\n",
    "* **Question 2: Polynomial Expansion** *(7 points)*\n",
    "  * **2.1: Polynomial features for logistic regression** (1 points)\n",
    "  * **2.2: Plot the computed non-linear boundary** (2 point)\n",
    "  * **2.4: Penalization** (4 points)\n",
    "* **Question 3: Multinomial Classification** *(9  points)*\n",
    "  * **3.1: Softmax Regression Model** (1 point)\n",
    "  * **3.2: Coding** (3 points)\n",
    "  * **3.3: Pipeline** (2 point)\n",
    "  * **3.4: Hyperparameters** (1 point)\n",
    "  * **3.5: Report** (2 point)\n",
    "* **Question 4: First approach to CNNs** *(8 points)*\n",
    "  * **4.1: Split the CIFAR-10 dataset** (1 point)\n",
    "  * **4.2: Identify and Correct Errors in the CNN Model** (3 points)\n",
    "  * **4.3: Training procedure** (2 points)\n",
    "  * **4.4: Evaluate** (1 point)\n",
    "  * **4.5: Report** (1 point)\n",
    "* **Question 5: Improve the accuracy** (BONUS) *(5 points)*\n",
    "  * **5.1: Custom model** (3 points)\n",
    "  * **5.2: Pretrained Network** (2 points)\n",
    "\n",
    "**TOTAL POINTS ARE 35, MAXIMUM GRADE IS 30**\n",
    "\n",
    "---\n"
   ]
  },
  {
   "cell_type": "code",
   "execution_count": 1,
   "id": "a8b40d9c",
   "metadata": {},
   "outputs": [
    {
     "name": "stdout",
     "output_type": "stream",
     "text": [
      "Note: you may need to restart the kernel to use updated packages.\n"
     ]
    }
   ],
   "source": [
    "if True:\n",
    "    %pip install -qqq numpy scipy matplotlib pandas scikit-learn seaborn tqdm"
   ]
  },
  {
   "cell_type": "code",
   "execution_count": 2,
   "id": "3960c7ef",
   "metadata": {
    "id": "skGOzNBb3uF4"
   },
   "outputs": [],
   "source": [
    "%matplotlib inline\n",
    "import numpy as np # imports a fast numerical programming library\n",
    "import matplotlib.pyplot as plt # sets up plotting under plt\n",
    "import pandas as pd # lets us handle data as dataframes\n",
    "import seaborn as sns\n",
    "from tqdm import tqdm\n",
    "from sklearn.model_selection import train_test_split\n",
    "from sklearn.preprocessing import StandardScaler\n",
    "from sklearn.linear_model import LogisticRegression\n",
    "from sklearn.metrics import accuracy_score\n",
    "from sklearn.metrics import confusion_matrix\n",
    "from sklearn.metrics import classification_report\n",
    "%load_ext autoreload\n",
    "%autoreload 2\n",
    "\n",
    "# sets up pandas table display\n",
    "pd.set_option('display.width', 500)\n",
    "pd.set_option('display.max_columns', 100)\n",
    "pd.set_option('display.notebook_repr_html', True)"
   ]
  },
  {
   "cell_type": "markdown",
   "id": "35c56914",
   "metadata": {
    "id": "_R7KkUpP3uF4"
   },
   "source": [
    "**Notation:**\n",
    "\n",
    "- $x^i$ is the $i^{th}$ feature vector\n",
    "- $y^i$ is the expected outcome for the $i^{th}$ training example\n",
    "- $m$ is the number of training examples\n",
    "- $n$ is the number of features\n",
    "\n",
    "**Let's start by setting up our Python environment and importing the required libraries:**"
   ]
  },
  {
   "cell_type": "markdown",
   "id": "306465a9",
   "metadata": {
    "id": "0G_LPstI3uF6",
    "jp-MarkdownHeadingCollapsed": true,
    "tags": []
   },
   "source": [
    "## 1: **Logistic Regression**"
   ]
  },
  {
   "cell_type": "markdown",
   "id": "ba37beb8",
   "metadata": {
    "id": "ffcP6hxn3uF7"
   },
   "source": [
    "### **1.1: Log-likelihood and Gradient Ascent Rule** \n",
    "\n",
    "Write the likelihood $L(\\theta)$ and log-likelihood $l(\\theta)$ of the parameters $\\theta$.\n",
    "\n",
    "Recall the probabilistic interpretation of the hypothesis $h_\\theta(x)= P(y=1|x;\\theta)$ and that $h_\\theta(x)=\\frac{1}{1+\\exp(-\\theta^T x)}$.\n",
    "\n",
    "Also derive the gradient $\\frac{\\delta l(\\theta)}{\\delta \\theta_j}$ of $l(\\theta)$ and write the gradient update equation. "
   ]
  },
  {
   "cell_type": "markdown",
   "id": "56301207",
   "metadata": {},
   "source": [
    "-------------------------------------------------------\n",
    "\n",
    "**WRITE YOUR EQUATIONS HERE**\n",
    "\n",
    "# Logistic Regression\n",
    "\n",
    "## 1. Likelihood $L(\\theta)$\n",
    "The likelihood function for Logistic Regression, given the probabilistic hypothesis $( h_\\theta(x) = \\frac{1}{1 + e^{-\\theta^T x}} )$, is:\n",
    "\n",
    "$$\n",
    "L(\\theta) = \\prod_{i=1}^m \\big(h_\\theta(x^{(i)})\\big)^{y^{(i)}} \\cdot \\big(1 - h_\\theta(x^{(i)})\\big)^{1 - y^{(i)}}\n",
    "$$\n",
    "\n",
    "Where $y^{(i)} \\in \\{0, 1\\}$ is the true label for the $i$-th example.\n",
    "\n",
    "---\n",
    "\n",
    "## 2. Log-Likelihood $l(\\theta)$\n",
    "The log-likelihood is the logarithm of the likelihood:\n",
    "\n",
    "$$\n",
    "l(\\theta) = \\log L(\\theta) = \\frac{1}{m} \\sum_{i=1}^m \\Big[ y^{(i)} \\log h_\\theta(x^{(i)}) + (1 - y^{(i)}) \\log \\big(1 - h_\\theta(x^{(i)})\\big) \\Big]\n",
    "$$\n",
    "\n",
    "---\n",
    "\n",
    "## 3. Gradient of Log-Likelihood $\\frac{\\delta l(\\theta)}{\\delta \\theta_j}$\n",
    "Taking the derivative of the log-likelihood with respect to $\\theta_j$:\n",
    "\n",
    "$$\n",
    "\\frac{\\delta l(\\theta)}{\\delta \\theta_j} = \\frac{1}{m} \\sum_{i=1}^m \\Big( y^{(i)} - h_\\theta(x^{(i)}) \\Big) x_j^{(i)}\n",
    "$$\n",
    "\n",
    "Where $x_j^{(i)}$ is the $j$-th feature of the $i$-th example.\n",
    "\n",
    "---\n",
    "\n",
    "## 4. Gradient Update Rule $\\theta_j$\n",
    "Using Gradient Ascent to maximize the log-likelihood, the update rule for $\\theta_j$ is:\n",
    "\n",
    "$$\n",
    "\\theta_j := \\theta_j + \\alpha \\frac{\\delta l(\\theta)}{\\delta \\theta_j}\n",
    "$$\n",
    "\n",
    "Where $\\alpha$ is the learning rate.\n",
    "\n",
    "\n",
    "-------------------------------------------------------"
   ]
  },
  {
   "cell_type": "markdown",
   "id": "69909e04",
   "metadata": {
    "id": "4N20uGxT3uGA"
   },
   "source": [
    "### **1.2: Logistic regression with Gradient Ascent**\n",
    "\n",
    "Define the sigmoid function `sigmoid`, then define the `LogisticRegression` class with the relative methods necessary to make predictions on an input, compute the log-likelihood and update its parameters. \n",
    "Then define a function that takes in input such $X$, $y$ and the predictions $\\hat{y} = g(\\theta^{T}x)$ and computes the gradient of the log-likelihood.\n",
    "Finally implement a function that takes in input such class and performs the training loop with the specified hyperparameters.\n",
    "\n",
    "Translate the equations you wrote above in code to learn the logistic regression parameters, $x^{(i)}_1$ and $x^{(i)}_2$ represent the two features for the $i$-th data sample $x^{(i)}$ and $y^{(i)}$ is its ground truth label.\n",
    "\n",
    "*Hint: even though by definition log likelihood and gradient ascent are defined by summations, for numerical stability it is advised to use the mean operation.*\n",
    "\n",
    "--------------------------------------------\n",
    "\n",
    "**Fill in the code in `libs/models/logisic_regression.py`, `libs/math.py/sigmoid()` and `libs/optim.py`**\n",
    "\n",
    "--------------------------------------------"
   ]
  },
  {
   "cell_type": "code",
   "execution_count": 3,
   "id": "e4829929",
   "metadata": {},
   "outputs": [],
   "source": [
    "from libs.models.logistic_regression import LogisticRegression\n",
    "from libs.optim import fit"
   ]
  },
  {
   "cell_type": "markdown",
   "id": "c2ca378a",
   "metadata": {
    "id": "c2q2DZXF3uGB"
   },
   "source": [
    "**Check your grad_l implementation:**\n",
    "\n",
    "`LogisticRegression.log_likelihood` applied to some random vectors should provide a value for `output_test` close to the `target_value` (defined below).\n",
    "In other words, `error_test` should be close to 0.\n",
    "\n",
    "**Do not write below this line just run it**\n",
    "\n",
    "--------------------------------------------"
   ]
  },
  {
   "cell_type": "code",
   "execution_count": 4,
   "id": "4df146f9",
   "metadata": {
    "colab": {
     "base_uri": "https://localhost:8080/"
    },
    "id": "h3UT5wav3uGB",
    "outputId": "e71fbb2c-8abf-4cf8-e927-23fef4a95dde"
   },
   "outputs": [
    {
     "name": "stdout",
     "output_type": "stream",
     "text": [
      "Error:  0.03199609822059846\n"
     ]
    }
   ],
   "source": [
    "target_value = -1\n",
    "np.random.seed(1)\n",
    "output_test = LogisticRegression.likelihood(np.random.random(100), np.random.randint(0, 2, 100))\n",
    "error_test = np.abs(output_test - target_value)\n",
    "print(\"Error: \", error_test)\n",
    "assert error_test < 0.2, \"The output is not correct\""
   ]
  },
  {
   "cell_type": "markdown",
   "id": "f876a9e2",
   "metadata": {},
   "source": [
    "#### Preprocessing\n",
    "<img src=\"https://allisonhorst.github.io/palmerpenguins/reference/figures/lter_penguins.png\" width=800/>\n",
    "\n",
    "Now you'll load a dataset of penguins data. The dataset contains three species of penguins (Adelie, Gentoo and Chinstrap). Your goal will be to classify a penguin species based on their bill's length and body mass. First we'll load the dataset:"
   ]
  },
  {
   "cell_type": "code",
   "execution_count": 6,
   "id": "eae9d063",
   "metadata": {},
   "outputs": [
    {
     "data": {
      "text/html": [
       "<div>\n",
       "<style scoped>\n",
       "    .dataframe tbody tr th:only-of-type {\n",
       "        vertical-align: middle;\n",
       "    }\n",
       "\n",
       "    .dataframe tbody tr th {\n",
       "        vertical-align: top;\n",
       "    }\n",
       "\n",
       "    .dataframe thead th {\n",
       "        text-align: right;\n",
       "    }\n",
       "</style>\n",
       "<table border=\"1\" class=\"dataframe\">\n",
       "  <thead>\n",
       "    <tr style=\"text-align: right;\">\n",
       "      <th></th>\n",
       "      <th>Id</th>\n",
       "      <th>island</th>\n",
       "      <th>sex</th>\n",
       "      <th>species</th>\n",
       "      <th>bill_length</th>\n",
       "      <th>bill_depth</th>\n",
       "      <th>flipper_length</th>\n",
       "      <th>body_mass</th>\n",
       "    </tr>\n",
       "  </thead>\n",
       "  <tbody>\n",
       "    <tr>\n",
       "      <th>0</th>\n",
       "      <td>182</td>\n",
       "      <td>Biscoe</td>\n",
       "      <td>FEMALE</td>\n",
       "      <td>Gentoo</td>\n",
       "      <td>47.10</td>\n",
       "      <td>16.00</td>\n",
       "      <td>184.43</td>\n",
       "      <td>2862.01</td>\n",
       "    </tr>\n",
       "    <tr>\n",
       "      <th>1</th>\n",
       "      <td>39</td>\n",
       "      <td>Biscoe</td>\n",
       "      <td>FEMALE</td>\n",
       "      <td>Gentoo</td>\n",
       "      <td>55.63</td>\n",
       "      <td>7.55</td>\n",
       "      <td>187.28</td>\n",
       "      <td>3345.10</td>\n",
       "    </tr>\n",
       "    <tr>\n",
       "      <th>2</th>\n",
       "      <td>265</td>\n",
       "      <td>Torgersen</td>\n",
       "      <td>FEMALE</td>\n",
       "      <td>Adelie</td>\n",
       "      <td>35.03</td>\n",
       "      <td>19.80</td>\n",
       "      <td>202.43</td>\n",
       "      <td>3536.63</td>\n",
       "    </tr>\n",
       "    <tr>\n",
       "      <th>3</th>\n",
       "      <td>158</td>\n",
       "      <td>Biscoe</td>\n",
       "      <td>NaN</td>\n",
       "      <td>Gentoo</td>\n",
       "      <td>28.18</td>\n",
       "      <td>20.59</td>\n",
       "      <td>220.22</td>\n",
       "      <td>4235.40</td>\n",
       "    </tr>\n",
       "    <tr>\n",
       "      <th>4</th>\n",
       "      <td>254</td>\n",
       "      <td>Dream</td>\n",
       "      <td>MALE</td>\n",
       "      <td>Chinstrap</td>\n",
       "      <td>25.38</td>\n",
       "      <td>25.22</td>\n",
       "      <td>233.34</td>\n",
       "      <td>5732.33</td>\n",
       "    </tr>\n",
       "  </tbody>\n",
       "</table>\n",
       "</div>"
      ],
      "text/plain": [
       "    Id     island     sex    species  bill_length  bill_depth  flipper_length  body_mass\n",
       "0  182     Biscoe  FEMALE     Gentoo        47.10       16.00          184.43    2862.01\n",
       "1   39     Biscoe  FEMALE     Gentoo        55.63        7.55          187.28    3345.10\n",
       "2  265  Torgersen  FEMALE     Adelie        35.03       19.80          202.43    3536.63\n",
       "3  158     Biscoe     NaN     Gentoo        28.18       20.59          220.22    4235.40\n",
       "4  254      Dream    MALE  Chinstrap        25.38       25.22          233.34    5732.33"
      ]
     },
     "execution_count": 6,
     "metadata": {},
     "output_type": "execute_result"
    }
   ],
   "source": [
    "data = pd.read_csv(\"assets/train.csv\")\n",
    "data.head()"
   ]
  },
  {
   "cell_type": "markdown",
   "id": "07ee1a83",
   "metadata": {},
   "source": [
    "We want to train a classifier capable of understanding the difference between Adelie and Gentoo solely based on their bill's length and body mass. Thus in order to preprocess the data we:\n",
    "1. Drop all the items with null data.\n",
    "2. Remove the third species (Chinstrap) from the dataset.\n",
    "3. Select the features we're interested in (`bill_length`, `body_mass`).\n",
    "4. Select the label data and encode it in the values 0 and 1.\n",
    "\n",
    "<img src=\"https://allisonhorst.github.io/palmerpenguins/reference/figures/culmen_depth.png\" width=\"500\"/> "
   ]
  },
  {
   "cell_type": "code",
   "execution_count": 7,
   "id": "0bda351f",
   "metadata": {},
   "outputs": [],
   "source": [
    "data.dropna(inplace=True)\n",
    "data = data[data[\"species\"] != \"Chinstrap\"]\n",
    "X = data[[\"bill_length\", \"body_mass\"]]\n",
    "y = data[\"species\"].map({\"Adelie\": 0, \"Gentoo\": 1}).values"
   ]
  },
  {
   "cell_type": "code",
   "execution_count": 8,
   "id": "2e547f5c",
   "metadata": {},
   "outputs": [
    {
     "data": {
      "text/html": [
       "<div>\n",
       "<style scoped>\n",
       "    .dataframe tbody tr th:only-of-type {\n",
       "        vertical-align: middle;\n",
       "    }\n",
       "\n",
       "    .dataframe tbody tr th {\n",
       "        vertical-align: top;\n",
       "    }\n",
       "\n",
       "    .dataframe thead th {\n",
       "        text-align: right;\n",
       "    }\n",
       "</style>\n",
       "<table border=\"1\" class=\"dataframe\">\n",
       "  <thead>\n",
       "    <tr style=\"text-align: right;\">\n",
       "      <th></th>\n",
       "      <th>Id</th>\n",
       "      <th>island</th>\n",
       "      <th>sex</th>\n",
       "      <th>species</th>\n",
       "      <th>bill_length</th>\n",
       "      <th>bill_depth</th>\n",
       "      <th>flipper_length</th>\n",
       "      <th>body_mass</th>\n",
       "    </tr>\n",
       "  </thead>\n",
       "  <tbody>\n",
       "    <tr>\n",
       "      <th>0</th>\n",
       "      <td>182</td>\n",
       "      <td>Biscoe</td>\n",
       "      <td>FEMALE</td>\n",
       "      <td>Gentoo</td>\n",
       "      <td>47.10</td>\n",
       "      <td>16.00</td>\n",
       "      <td>184.43</td>\n",
       "      <td>2862.01</td>\n",
       "    </tr>\n",
       "    <tr>\n",
       "      <th>1</th>\n",
       "      <td>39</td>\n",
       "      <td>Biscoe</td>\n",
       "      <td>FEMALE</td>\n",
       "      <td>Gentoo</td>\n",
       "      <td>55.63</td>\n",
       "      <td>7.55</td>\n",
       "      <td>187.28</td>\n",
       "      <td>3345.10</td>\n",
       "    </tr>\n",
       "    <tr>\n",
       "      <th>2</th>\n",
       "      <td>265</td>\n",
       "      <td>Torgersen</td>\n",
       "      <td>FEMALE</td>\n",
       "      <td>Adelie</td>\n",
       "      <td>35.03</td>\n",
       "      <td>19.80</td>\n",
       "      <td>202.43</td>\n",
       "      <td>3536.63</td>\n",
       "    </tr>\n",
       "    <tr>\n",
       "      <th>5</th>\n",
       "      <td>45</td>\n",
       "      <td>Torgersen</td>\n",
       "      <td>MALE</td>\n",
       "      <td>Adelie</td>\n",
       "      <td>47.00</td>\n",
       "      <td>13.00</td>\n",
       "      <td>198.00</td>\n",
       "      <td>5629.80</td>\n",
       "    </tr>\n",
       "    <tr>\n",
       "      <th>6</th>\n",
       "      <td>65</td>\n",
       "      <td>Dream</td>\n",
       "      <td>MALE</td>\n",
       "      <td>Adelie</td>\n",
       "      <td>18.48</td>\n",
       "      <td>16.30</td>\n",
       "      <td>188.27</td>\n",
       "      <td>5517.11</td>\n",
       "    </tr>\n",
       "  </tbody>\n",
       "</table>\n",
       "</div>"
      ],
      "text/plain": [
       "    Id     island     sex species  bill_length  bill_depth  flipper_length  body_mass\n",
       "0  182     Biscoe  FEMALE  Gentoo        47.10       16.00          184.43    2862.01\n",
       "1   39     Biscoe  FEMALE  Gentoo        55.63        7.55          187.28    3345.10\n",
       "2  265  Torgersen  FEMALE  Adelie        35.03       19.80          202.43    3536.63\n",
       "5   45  Torgersen    MALE  Adelie        47.00       13.00          198.00    5629.80\n",
       "6   65      Dream    MALE  Adelie        18.48       16.30          188.27    5517.11"
      ]
     },
     "execution_count": 8,
     "metadata": {},
     "output_type": "execute_result"
    }
   ],
   "source": [
    "data.head()"
   ]
  },
  {
   "cell_type": "markdown",
   "id": "3b3cb402",
   "metadata": {},
   "source": [
    "It is recommended to normalize data when using machine learning techniques, so now normalize $X$ to have $\\mu=0, \\sigma=1$."
   ]
  },
  {
   "cell_type": "code",
   "execution_count": 9,
   "id": "b446b8f0",
   "metadata": {},
   "outputs": [],
   "source": [
    "# Compute the mean and standard deviation for each feature\n",
    "mean = X.mean()\n",
    "std = X.std()\n",
    "\n",
    "# Apply normalization\n",
    "X = (X - mean) / std"
   ]
  },
  {
   "cell_type": "markdown",
   "id": "057099fb",
   "metadata": {},
   "source": [
    "We add a column of 1's to $X$ to take into account the intercept."
   ]
  },
  {
   "cell_type": "code",
   "execution_count": 10,
   "id": "118726ed",
   "metadata": {},
   "outputs": [
    {
     "data": {
      "text/html": [
       "<div>\n",
       "<style scoped>\n",
       "    .dataframe tbody tr th:only-of-type {\n",
       "        vertical-align: middle;\n",
       "    }\n",
       "\n",
       "    .dataframe tbody tr th {\n",
       "        vertical-align: top;\n",
       "    }\n",
       "\n",
       "    .dataframe thead th {\n",
       "        text-align: right;\n",
       "    }\n",
       "</style>\n",
       "<table border=\"1\" class=\"dataframe\">\n",
       "  <thead>\n",
       "    <tr style=\"text-align: right;\">\n",
       "      <th></th>\n",
       "      <th>bias</th>\n",
       "      <th>bill_length</th>\n",
       "      <th>body_mass</th>\n",
       "    </tr>\n",
       "  </thead>\n",
       "  <tbody>\n",
       "    <tr>\n",
       "      <th>0</th>\n",
       "      <td>1</td>\n",
       "      <td>0.444021</td>\n",
       "      <td>-0.748712</td>\n",
       "    </tr>\n",
       "    <tr>\n",
       "      <th>1</th>\n",
       "      <td>1</td>\n",
       "      <td>1.022341</td>\n",
       "      <td>-0.507442</td>\n",
       "    </tr>\n",
       "    <tr>\n",
       "      <th>2</th>\n",
       "      <td>1</td>\n",
       "      <td>-0.374306</td>\n",
       "      <td>-0.411786</td>\n",
       "    </tr>\n",
       "    <tr>\n",
       "      <th>5</th>\n",
       "      <td>1</td>\n",
       "      <td>0.437241</td>\n",
       "      <td>0.633610</td>\n",
       "    </tr>\n",
       "    <tr>\n",
       "      <th>6</th>\n",
       "      <td>1</td>\n",
       "      <td>-1.496369</td>\n",
       "      <td>0.577329</td>\n",
       "    </tr>\n",
       "    <tr>\n",
       "      <th>...</th>\n",
       "      <td>...</td>\n",
       "      <td>...</td>\n",
       "      <td>...</td>\n",
       "    </tr>\n",
       "    <tr>\n",
       "      <th>196</th>\n",
       "      <td>1</td>\n",
       "      <td>0.808777</td>\n",
       "      <td>0.192532</td>\n",
       "    </tr>\n",
       "    <tr>\n",
       "      <th>197</th>\n",
       "      <td>1</td>\n",
       "      <td>-0.790588</td>\n",
       "      <td>-0.315580</td>\n",
       "    </tr>\n",
       "    <tr>\n",
       "      <th>198</th>\n",
       "      <td>1</td>\n",
       "      <td>-1.428571</td>\n",
       "      <td>0.093969</td>\n",
       "    </tr>\n",
       "    <tr>\n",
       "      <th>199</th>\n",
       "      <td>1</td>\n",
       "      <td>0.788437</td>\n",
       "      <td>-0.037037</td>\n",
       "    </tr>\n",
       "    <tr>\n",
       "      <th>200</th>\n",
       "      <td>1</td>\n",
       "      <td>0.941661</td>\n",
       "      <td>-0.176283</td>\n",
       "    </tr>\n",
       "  </tbody>\n",
       "</table>\n",
       "<p>151 rows × 3 columns</p>\n",
       "</div>"
      ],
      "text/plain": [
       "     bias  bill_length  body_mass\n",
       "0       1     0.444021  -0.748712\n",
       "1       1     1.022341  -0.507442\n",
       "2       1    -0.374306  -0.411786\n",
       "5       1     0.437241   0.633610\n",
       "6       1    -1.496369   0.577329\n",
       "..    ...          ...        ...\n",
       "196     1     0.808777   0.192532\n",
       "197     1    -0.790588  -0.315580\n",
       "198     1    -1.428571   0.093969\n",
       "199     1     0.788437  -0.037037\n",
       "200     1     0.941661  -0.176283\n",
       "\n",
       "[151 rows x 3 columns]"
      ]
     },
     "execution_count": 10,
     "metadata": {},
     "output_type": "execute_result"
    }
   ],
   "source": [
    "X[\"bias\"] = 1\n",
    "# Reordering columns to have the bias term first (convention)\n",
    "X = X[[\"bias\", \"bill_length\", \"body_mass\"]] \n",
    "X"
   ]
  },
  {
   "cell_type": "code",
   "execution_count": 12,
   "id": "a5b39436",
   "metadata": {},
   "outputs": [
    {
     "data": {
      "text/plain": [
       "bias           1.000000e+00\n",
       "bill_length    2.654242e-16\n",
       "body_mass     -1.616441e-15\n",
       "dtype: float64"
      ]
     },
     "execution_count": 12,
     "metadata": {},
     "output_type": "execute_result"
    }
   ],
   "source": [
    "X.mean()"
   ]
  },
  {
   "cell_type": "code",
   "execution_count": 13,
   "id": "687e8785",
   "metadata": {},
   "outputs": [
    {
     "data": {
      "text/plain": [
       "bias           0.0\n",
       "bill_length    1.0\n",
       "body_mass      1.0\n",
       "dtype: float64"
      ]
     },
     "execution_count": 13,
     "metadata": {},
     "output_type": "execute_result"
    }
   ],
   "source": [
    "X.std()"
   ]
  },
  {
   "cell_type": "markdown",
   "id": "d4c6c591",
   "metadata": {},
   "source": [
    "#### Training\n",
    "Now you'll use the class defined above to train a logistic regression model on classifying a group of penguins."
   ]
  },
  {
   "cell_type": "code",
   "execution_count": 14,
   "id": "3d70727f",
   "metadata": {
    "colab": {
     "base_uri": "https://localhost:8080/"
    },
    "id": "ajh8uvxR3uGB",
    "outputId": "a3ea1017-fd6e-4e2c-83bb-e337cc9b2ef0"
   },
   "outputs": [],
   "source": [
    "# Initialize the model\n",
    "model = LogisticRegression(num_features=X.shape[1])\n",
    "\n",
    "# Run Gradient Ascent method\n",
    "n_iter = 50\n",
    "log_l_history, _ = fit(model, X, y, lr=0.5, num_steps=n_iter)"
   ]
  },
  {
   "cell_type": "markdown",
   "id": "589ba43d",
   "metadata": {
    "id": "MusdHuGZ3uGC"
   },
   "source": [
    "Let's plot the log likelihood over different iterations:\n"
   ]
  },
  {
   "cell_type": "code",
   "execution_count": 15,
   "id": "d53b2578",
   "metadata": {
    "colab": {
     "base_uri": "https://localhost:8080/",
     "height": 279
    },
    "id": "5BFYiF543uGC",
    "outputId": "7cf633f9-3c86-472f-9954-350acc5a5fb3"
   },
   "outputs": [
    {
     "data": {
      "text/plain": [
       "Text(0.5, 0, 'Iterations')"
      ]
     },
     "execution_count": 15,
     "metadata": {},
     "output_type": "execute_result"
    },
    {
     "data": {
      "image/png": "[encoded data removed]",
      "text/plain": [
       "<Figure size 432x288 with 1 Axes>"
      ]
     },
     "metadata": {
      "needs_background": "light"
     },
     "output_type": "display_data"
    }
   ],
   "source": [
    "plt.plot(range(len(log_l_history)), log_l_history, \"b\")\n",
    "plt.ylabel(\"log-likelihood(Theta)\")\n",
    "plt.xlabel(\"Iterations\")"
   ]
  },
  {
   "cell_type": "markdown",
   "id": "f333bcd8",
   "metadata": {
    "id": "pYd890o33uGC"
   },
   "source": [
    "Plot the data and the decision boundary:"
   ]
  },
  {
   "cell_type": "code",
   "execution_count": 16,
   "id": "24c2e256",
   "metadata": {},
   "outputs": [
    {
     "data": {
      "text/plain": [
       "(-2.4624306915019685, 2.57248257179744)"
      ]
     },
     "execution_count": 16,
     "metadata": {},
     "output_type": "execute_result"
    },
    {
     "data": {
      "image/png": "[encoded data removed]",
      "text/plain": [
       "<Figure size 432x432 with 1 Axes>"
      ]
     },
     "metadata": {
      "needs_background": "light"
     },
     "output_type": "display_data"
    }
   ],
   "source": [
    "plt.figure(figsize=(6,6))\n",
    "sns.scatterplot(data=X, x=\"bill_length\", y=\"body_mass\", hue=data[\"species\"])\n",
    "\n",
    "x_range = np.linspace(X['bill_length'].min(), X['bill_length'].max(), 100)\n",
    "theta_final = model.parameters\n",
    "y_range = -(theta_final[0] + theta_final[1] * x_range) / theta_final[2]\n",
    "plt.plot(x_range, y_range, c=\"red\")\n",
    "\n",
    "plt.xlim(X['bill_length'].min() - 0.2, X['bill_length'].max() + 0.2)\n",
    "plt.ylim(X['body_mass'].min() - 0.2, X['body_mass'].max() + 0.2)"
   ]
  },
  {
   "cell_type": "code",
   "execution_count": 17,
   "id": "df68aa89",
   "metadata": {},
   "outputs": [
    {
     "name": "stdout",
     "output_type": "stream",
     "text": [
      "Accuracy: 0.7615894039735099\n"
     ]
    }
   ],
   "source": [
    "accuracy = ((model.predict(X) > 0.5) == y).mean()\n",
    "print(f\"Accuracy: {accuracy}\")\n",
    "assert accuracy > 0.6, \"The accuracy is too low\""
   ]
  },
  {
   "cell_type": "markdown",
   "id": "dfad244e",
   "metadata": {
    "id": "FgyCuwL3E3-P"
   },
   "source": [
    "### **1.3: Report**"
   ]
  },
  {
   "cell_type": "markdown",
   "id": "9422a9aa",
   "metadata": {
    "id": "YyHpS-us3uGD"
   },
   "source": [
    "1. Are we looking for a local minimum or a local maximum using the gradient ascent rule? \n",
    "2. You have implemented the gradient ascent rule. Could we have also used gradient descent instead for the proposed problem? Why/Why not?\n",
    "3. Let's deeply analyze how the learning rate $\\alpha$ and the number of iterations affect the final results. Run the algorithm you have written for different values of $\\alpha$ and the number of iterations and look at the outputs you get. Is the decision boundary influenced by these parameters change? Why do you think these parameters are affecting/not affecting the results?\n",
    "4. What happens if you do not normalize the data? Try to run the algorithm without normalizing the data and see what happens. Why do you think this happens?\n"
   ]
  },
  {
   "cell_type": "markdown",
   "id": "e87caf56",
   "metadata": {
    "id": "4tHm2tj5E3-P"
   },
   "source": [
    "-------------------------------------------------------\n",
    "\n",
    "\n",
    "**WRITE YOUR ANSWER HERE:**\n",
    "\n",
    "    1.We are looking for a local maximum because gradient ascent maximizes the log-likelihood.\n",
    "\n",
    "    2.Yes, by minimizing the negative log-likelihood, gradient descent would achieve the same result as gradient ascent.\n",
    "\n",
    "    3.\n",
    "        Learning Rate(α):\n",
    "        Small α: Slow convergence.\n",
    "        Large α: May overshoot or diverge.\n",
    "        Optimal α: Balances speed and stability.\n",
    "        Iterations:\n",
    "        Fewer iterations: Incomplete convergence.\n",
    "        More iterations: Allows full convergence.\n",
    "        \n",
    "    Result: Both parameters influence the decision boundary since they determine how well the model learns the optimal weights.\n",
    "    \n",
    "    4. Without normalization:\n",
    "    Larger feature values dominate smaller ones, leading to poor convergence or incorrect decision boundaries.\n",
    "    The model struggles to find optimal weights.\n",
    "    Result: Always normalize data for consistent and faster convergence\n",
    "    5. *(feel free to add here screenshots or new code cells if needed)*\n",
    "\n",
    "-------------------------------------------------------"
   ]
  },
  {
   "cell_type": "markdown",
   "id": "c04c421d",
   "metadata": {},
   "source": [
    "### EXPERIMENTATION FOR 3RD QUESTION ###"
   ]
  },
  {
   "cell_type": "code",
   "execution_count": 18,
   "id": "e05ef6cf",
   "metadata": {},
   "outputs": [
    {
     "name": "stdout",
     "output_type": "stream",
     "text": [
      "Learning Rate: 0.01, Iterations: 50, Final Log-Likelihood: -0.6573757794548319\n",
      "Learning Rate: 0.01, Iterations: 100, Final Log-Likelihood: -0.6284163066384635\n",
      "Learning Rate: 0.01, Iterations: 500, Final Log-Likelihood: -0.5410307394139677\n",
      "Learning Rate: 0.1, Iterations: 50, Final Log-Likelihood: -0.541203793535394\n",
      "Learning Rate: 0.1, Iterations: 100, Final Log-Likelihood: -0.5211623213589107\n",
      "Learning Rate: 0.1, Iterations: 500, Final Log-Likelihood: -0.5148253121180247\n",
      "Learning Rate: 0.5, Iterations: 50, Final Log-Likelihood: -0.5150109970235912\n",
      "Learning Rate: 0.5, Iterations: 100, Final Log-Likelihood: -0.5148251327914842\n",
      "Learning Rate: 0.5, Iterations: 500, Final Log-Likelihood: -0.5148242629702975\n"
     ]
    }
   ],
   "source": [
    "learning_rates = [0.01, 0.1, 0.5]\n",
    "iterations_list = [50, 100, 500]\n",
    "\n",
    "for alpha in learning_rates:\n",
    "    for n_iter in iterations_list:\n",
    "        model = LogisticRegression(num_features=X.shape[1])\n",
    "        log_l_history = []\n",
    "\n",
    "        for epoch in range(n_iter):\n",
    "            preds = model.predict(X)\n",
    "            log_l = model.likelihood(preds, y)\n",
    "            log_l_history.append(log_l)\n",
    "            gradient = model.compute_gradient(X, y, preds)\n",
    "            model.update_theta(gradient, lr=alpha)\n",
    "\n",
    "        print(f\"Learning Rate: {alpha}, Iterations: {n_iter}, Final Log-Likelihood: {log_l}\")\n"
   ]
  },
  {
   "cell_type": "markdown",
   "id": "34f191da",
   "metadata": {},
   "source": [
    "### EXPERIMENTATION FOR 4TH QUESTION"
   ]
  },
  {
   "cell_type": "code",
   "execution_count": 19,
   "id": "acd96262",
   "metadata": {},
   "outputs": [
    {
     "name": "stdout",
     "output_type": "stream",
     "text": [
      "Final Log-Likelihood (without normalization): -0.5211929591510793\n"
     ]
    }
   ],
   "source": [
    "# Without normalization\n",
    "model = LogisticRegression(num_features=X.shape[1])\n",
    "log_l_history = []\n",
    "\n",
    "for epoch in range(100):\n",
    "    preds = model.predict(X)  # Use unnormalized X\n",
    "    log_l = model.likelihood(preds, y)\n",
    "    log_l_history.append(log_l)\n",
    "    gradient = model.compute_gradient(X, y, preds)\n",
    "    model.update_theta(gradient, lr=0.1)\n",
    "\n",
    "print(f\"Final Log-Likelihood (without normalization): {log_l}\")\n"
   ]
  },
  {
   "cell_type": "markdown",
   "id": "e71ad46b",
   "metadata": {
    "id": "vbdZNYCl3uGD",
    "jp-MarkdownHeadingCollapsed": true,
    "tags": []
   },
   "source": [
    "## 2: **Polynomial Expansion**"
   ]
  },
  {
   "cell_type": "markdown",
   "id": "022266f7",
   "metadata": {
    "id": "TrcB4LXw3uGD",
    "tags": []
   },
   "source": [
    "### **2.1: Polynomial features for logistic regression** \n",
    "\n",
    "Define new features e.g., of 2nd and 3rd degree, and learn a logistic regression classifier by using the new features and the gradient ascent optimization algorithm defined in Question 1.\n",
    "\n",
    "In particular, consider a polynomial boundary with equation:\n",
    "\n",
    "\\begin{equation}\n",
    "f(x_1, x_2) = c_0 + c_1 x_1 + c_2 x_2 + c_3 x_1^2 + c_4 x_2^2 + c_5 x_1 x_2 + c_6 x_1^3 + c_7 x_2^3 + c_8 x_1^2 x_2 + c_9 x_1 x_2^2\n",
    "\\end{equation}\n",
    "\n",
    "Therefore compute 7 new features: 3 new ones for the quadratic terms and 4 new ones for the cubic terms.\n",
    "\n",
    "Create new arrays by stacking $x$ and the new 7 features (in the order $x_1x_1, x_2x_2, x_1x_2, x_1x_1x_1, x_2x_2x_2, x_1x_1x_2, x_1x_2x_2$). \n",
    "In particular create `x_new_quad` by additionally stacking $x$ with the quadratic features, and `x_new_cubic` by additionally stacking $x$ with the quadratic and the cubic features.\n",
    "\n",
    "**Do not write below this line just run it**\n",
    "\n",
    "--------------------------------------------"
   ]
  },
  {
   "cell_type": "code",
   "execution_count": 20,
   "id": "e200aed3",
   "metadata": {
    "colab": {
     "base_uri": "https://localhost:8080/"
    },
    "id": "hXn0rvSM3uGD",
    "outputId": "09a90b76-0b2e-4b6c-c75f-8df4dd673954"
   },
   "outputs": [
    {
     "data": {
      "text/plain": [
       "<AxesSubplot:>"
      ]
     },
     "execution_count": 20,
     "metadata": {},
     "output_type": "execute_result"
    },
    {
     "data": {
      "image/png": "[encoded data removed]",
      "text/plain": [
       "<Figure size 432x288 with 1 Axes>"
      ]
     },
     "metadata": {
      "needs_background": "light"
     },
     "output_type": "display_data"
    }
   ],
   "source": [
    "from sklearn.datasets import make_classification\n",
    "X, y = make_classification(\n",
    "    n_samples=700,\n",
    "    n_features=2,\n",
    "    n_informative=2,\n",
    "    n_redundant=0,\n",
    "    n_classes=2,\n",
    "    n_clusters_per_class=1,\n",
    "    class_sep=.3,\n",
    "    random_state=89,\n",
    ")\n",
    "X = np.hstack([np.ones_like(X[:, [0]]), X])\n",
    "X, X_val, y, y_val = train_test_split(X, y, test_size=200, random_state=42)\n",
    "\n",
    "sns.scatterplot(x=X[:, 1], y=X[:, 2], hue=y)"
   ]
  },
  {
   "cell_type": "code",
   "execution_count": 21,
   "id": "18dc0176",
   "metadata": {
    "id": "zicVdhc73uGF"
   },
   "outputs": [],
   "source": [
    "def get_polynomial(X, degree):\n",
    "    \"\"\"\n",
    "    Given an initial set of features, this function computes the polynomial features up to the given degree.\n",
    "\n",
    "    Args:\n",
    "        X: the initial features matrix of shape (n_samples, 3) where the first column is the bias term\n",
    "        degree: the degree of the polynomial\n",
    "\n",
    "    Returns:YOUR\n",
    "        X: the final polynomial features\n",
    "    \"\"\"\n",
    "    if degree < 2:\n",
    "        return X\n",
    "\n",
    "    features = np.ones(X.shape[0])\n",
    "\n",
    "    x1 = X[:, 1]\n",
    "    x2 = X[:, 2]\n",
    "\n",
    "    # quadratic terems\n",
    "    if degree >= 2:\n",
    "        features = np.column_stack((features, x1, x2,  x1**2, x2**2, x1 * x2))\n",
    "    \n",
    "    # cubic terms\n",
    "    if degree == 3:\n",
    "        features = np.column_stack((features, x1**3, x2**3, (x1**2) * x2, x1 * (x2**2)))\n",
    "    \n",
    "\n",
    "    return features"
   ]
  },
  {
   "cell_type": "markdown",
   "id": "6aca7ebf",
   "metadata": {
    "id": "vzyJ450Z3uGF"
   },
   "source": [
    "\n",
    "**Do not write below this line just run it**\n",
    "\n",
    "--------------------------------------------"
   ]
  },
  {
   "cell_type": "code",
   "execution_count": 22,
   "id": "611a2aee",
   "metadata": {
    "id": "D7pukmkA3uGF"
   },
   "outputs": [
    {
     "name": "stdout",
     "output_type": "stream",
     "text": [
      "(500, 6) (500, 10)\n"
     ]
    }
   ],
   "source": [
    "x_new_quad = get_polynomial(X, degree=2)\n",
    "x_new_cubic = get_polynomial(X, degree=3)\n",
    "print(x_new_quad.shape, x_new_cubic.shape)"
   ]
  },
  {
   "cell_type": "markdown",
   "id": "57a43fe0",
   "metadata": {
    "id": "iFlwv5JY3uGF"
   },
   "source": [
    "Now use the gradient ascent optimization algorithm to learn the models by maximizing the log-likelihood, both for the case of `x_new_quad` and `x_new_cubic`.\n",
    "\n",
    "\n",
    "**Do not write below this line just run it**\n",
    "\n",
    "--------------------------------------------"
   ]
  },
  {
   "cell_type": "code",
   "execution_count": 23,
   "id": "4ea40537",
   "metadata": {
    "colab": {
     "base_uri": "https://localhost:8080/"
    },
    "id": "jFTkk32y3uGF",
    "outputId": "1177abc2-7d88-423e-f7c6-07e29293abfa"
   },
   "outputs": [
    {
     "data": {
      "text/plain": [
       "[Text(0.5, 0, 'Iterations'),\n",
       " Text(0, 0.5, 'Log Likelihood'),\n",
       " Text(0.5, 1.0, 'Log Likelihood History for Different Models')]"
      ]
     },
     "execution_count": 23,
     "metadata": {},
     "output_type": "execute_result"
    },
    {
     "data": {
      "image/png": "[encoded data removed]",
      "text/plain": [
       "<Figure size 432x288 with 1 Axes>"
      ]
     },
     "metadata": {
      "needs_background": "light"
     },
     "output_type": "display_data"
    }
   ],
   "source": [
    "n_iter = 50\n",
    "model_lin = LogisticRegression(num_features=X.shape[1])\n",
    "log_l_history,_ = fit(model_lin, X, y, lr=0.5, num_steps=n_iter)\n",
    "\n",
    "# Initialize model, in case of quadratic features\n",
    "model_quad = LogisticRegression(num_features=x_new_quad.shape[1])\n",
    "log_l_history_quad,_ = fit(model_quad, x_new_quad, y, lr=0.5, num_steps=n_iter)\n",
    "\n",
    "# Initialize model, in case of quadratic and cubic features\n",
    "model_cubic = LogisticRegression(num_features=x_new_cubic.shape[1])\n",
    "log_l_history_cubic,_ = fit(model_cubic, x_new_cubic, y, lr=0.5, num_steps=n_iter)\n",
    "\n",
    "log_l = np.stack([log_l_history, log_l_history_quad, log_l_history_cubic])\n",
    "\n",
    "log_l_df = pd.DataFrame(log_l.T, columns=[\"Linear\", \"Quadratic\", \"Cubic\"])\n",
    "sns.lineplot(data=log_l_df, markers=True).set(\n",
    "    xlabel=\"Iterations\", ylabel=\"Log Likelihood\", title=\"Log Likelihood History for Different Models\"\n",
    ")"
   ]
  },
  {
   "cell_type": "markdown",
   "id": "b60667ee",
   "metadata": {
    "id": "Zy_2fRVP3uGG"
   },
   "source": [
    "### **2.2: Plot the computed non-linear boundary** \n",
    "\n",
    "First, define a boundary_function to compute the boundary equation for the input feature vectors $x_1$ and $x_2$, according to estimated parameters theta, both in the case of quadratic (theta_final_quad) and of quadratic and cubic features (theta_final_cubic). Refer for the equation to the introductory part of Question 2."
   ]
  },
  {
   "cell_type": "code",
   "execution_count": 24,
   "id": "dcebc714",
   "metadata": {
    "id": "fd4r2Z3z3uGG"
   },
   "outputs": [],
   "source": [
    "def boundary_function(x1_vec, x2_vec, theta_final, degree):\n",
    "    \"\"\"\n",
    "    This function computes the boundary function for the given theta_final and degree.\n",
    "\n",
    "    Args:\n",
    "        x1_vec: the x1 vector\n",
    "        x2_vec: the x2 vector\n",
    "        theta_final: the final theta\n",
    "        degree: the degree of the polynomial\n",
    "\n",
    "    Returns:\n",
    "        x1_vec: the x1 vector\n",
    "        x2_vec: the x2 vector\n",
    "        f: the boundary function\n",
    "    \"\"\"\n",
    "\n",
    "    x1_vec, x2_vec = np.meshgrid(x1_vec, x2_vec)\n",
    "\n",
    "    # Flatten the meshgrid to prepare inputs for polynomial feature generation\n",
    "    x1_flat = x1_vec.ravel()\n",
    "    x2_flat = x2_vec.ravel()\n",
    "\n",
    "    # Add bias term\n",
    "    X = np.column_stack((np.ones_like(x1_flat), x1_flat, x2_flat))\n",
    "    \n",
    "    # Make polynonymial features\n",
    "    X = get_polynomial(X, degree)\n",
    "    \n",
    "    # Compute the boundary function: f = X_poly * theta_final\n",
    "    f = np.dot(X, theta_final)\n",
    "\n",
    "    # Reshape f back to the meshgrid shape\n",
    "    f = f.reshape(x1_vec.shape)\n",
    "\n",
    "\n",
    "    return x1_vec, x2_vec, f"
   ]
  },
  {
   "cell_type": "markdown",
   "id": "0b556291",
   "metadata": {
    "id": "n2udd0d63uGG"
   },
   "source": [
    "Now plot the decision boundaries corresponding to the theta_final_quad and theta_final_cubic solutions.\n",
    "\n",
    "**Do not write below this line just run it**\n",
    "\n",
    "--------------------------------------------"
   ]
  },
  {
   "cell_type": "code",
   "execution_count": 25,
   "id": "6dd0d477",
   "metadata": {},
   "outputs": [
    {
     "data": {
      "image/png": "[encoded data removed]",
      "text/plain": [
       "<Figure size 1080x360 with 3 Axes>"
      ]
     },
     "metadata": {
      "needs_background": "light"
     },
     "output_type": "display_data"
    }
   ],
   "source": [
    "def plot_boundary_function(\n",
    "    X: np.ndarray, y: np.ndarray, theta: np.ndarray, degree: int, n_points: int = 200\n",
    ") -> None:\n",
    "    \"\"\"\n",
    "    This function plots the boundary function for the given theta and degree.\n",
    "\n",
    "    Args:\n",
    "        X: the input data\n",
    "        y: the input labels\n",
    "        theta: the final theta\n",
    "        degree: the degree of the polynomial\n",
    "        n_points: the number of points to plot\n",
    "\n",
    "    Returns:\n",
    "        None\n",
    "    \"\"\"\n",
    "    # Generate ranges for x1 and x2\n",
    "    x1_vec = np.linspace(X[:, 1].min() - 1, X[:, 1].max() + 1, n_points)\n",
    "    x2_vec = np.linspace(X[:, 2].min() - 1, X[:, 2].max() + 1, n_points)\n",
    "\n",
    "    # Compute the boundary function values\n",
    "    x1_mesh, x2_mesh, f = boundary_function(x1_vec, x2_vec, theta, degree=degree)\n",
    "\n",
    "    # Plot the data points\n",
    "    sns.scatterplot(x=X[:, 1], y=X[:, 2], hue=y, legend=False)\n",
    "\n",
    "    # Plot the decision boundary (f = 0 corresponds to the boundary)\n",
    "    plt.contour(x1_mesh, x2_mesh, f, levels=[0], colors=\"red\", linewidths=2)\n",
    "    \n",
    "\n",
    "plt.figure(figsize=(15, 5))\n",
    "\n",
    "# Linear boundary\n",
    "plt.subplot(1, 3, 1)\n",
    "plot_boundary_function(X, y, model_lin.parameters, degree=1)\n",
    "plt.title(\"Decision Boundary for Linear Features\")\n",
    "\n",
    "# Quadratic boundary\n",
    "plt.subplot(1, 3, 2)\n",
    "plot_boundary_function(X, y, model_quad.parameters, degree=2)\n",
    "plt.title(\"Decision Boundary for Quadratic Features\")\n",
    "\n",
    "# Cubic boundary\n",
    "plt.subplot(1, 3, 3)\n",
    "plot_boundary_function(X, y, model_cubic.parameters, degree=3)\n",
    "plt.title(\"Decision Boundary for Cubic Features\")\n",
    "\n",
    "plt.tight_layout()\n",
    "plt.show()\n",
    "\n"
   ]
  },
  {
   "cell_type": "markdown",
   "id": "12908fe6",
   "metadata": {},
   "source": [
    "**Polynomial degree and overfitting**\n",
    "\n",
    "As the polynomial degree increases, the decision boundary becomes more and more complex. This can lead to overfitting, i.e. the model learns the training data too well, and it is not able to generalize to new data. This is a common problem in machine learning, and it is important to be able to detect it.\n",
    "\n",
    "In order to detect overfitting, we can split the dataset into a training set and a test set. The training set is used to learn the model, while the test set is used to evaluate the model performance on new data. If the model performs well on the training set, but it performs poorly on the test set, then we have overfitting.\n",
    "\n",
    "In this exercise, you are asked to plot the training and test accuracy as a function of the polynomial degree. Consider all the polynomial degrees from 1 to 20. For each polynomial degree, learn the model on the training set, and evaluate the accuracy on both the training and the test set. Additionally, visualize the decision boundary for the polynomials that give the **best** and the **worst** test accuracy for $\\texttt{degree} \\geq 2$."
   ]
  },
  {
   "cell_type": "code",
   "execution_count": 26,
   "id": "0a8c83cf",
   "metadata": {},
   "outputs": [],
   "source": [
    "from sklearn.preprocessing import normalize\n",
    "\n",
    "def fit_polynomials(X, y, X_test, y_test, degrees, lr, num_steps, architecture = LogisticRegression):\n",
    "    \"\"\"\n",
    "    This function fits a logistic regression model for each degree in the degrees list.\n",
    "    \"\"\"\n",
    "    X = normalize(X)\n",
    "    X_test = normalize(X_test)\n",
    "\n",
    "    thetas = []\n",
    "    accuracy_scores_train, accuracy_scores_test = [], []\n",
    "    for degree in tqdm(degrees):\n",
    "        x_new = get_polynomial(X, degree=degree)\n",
    "\n",
    "        model = architecture(num_features=x_new.shape[1])\n",
    "        fit(model, x_new, y, lr=lr, num_steps=num_steps)    \n",
    "\n",
    "        thetas.append(model.parameters)\n",
    "        y_hat_train = model.predict(x_new) > 0.5\n",
    "        accuracy_scores_train.append(accuracy_score(y, y_hat_train))\n",
    "        y_hat_test = model.predict(get_polynomial(X_test, degree=degree)) > 0.5\n",
    "        accuracy_scores_test.append(accuracy_score(y_test, y_hat_test))\n",
    "        \n",
    "    return thetas, accuracy_scores_train, accuracy_scores_test"
   ]
  },
  {
   "cell_type": "code",
   "execution_count": 27,
   "id": "c28971c0",
   "metadata": {},
   "outputs": [
    {
     "name": "stderr",
     "output_type": "stream",
     "text": [
      "100%|██████████| 19/19 [00:04<00:00,  4.29it/s]\n"
     ]
    },
    {
     "data": {
      "image/png": "[encoded data removed]",
      "text/plain": [
       "<Figure size 432x288 with 1 Axes>"
      ]
     },
     "metadata": {
      "needs_background": "light"
     },
     "output_type": "display_data"
    }
   ],
   "source": [
    "degrees = np.arange(1, 20)\n",
    "np.random.seed(42)\n",
    "thetas, accuracy_scores_train, accuracy_scores_test = fit_polynomials(\n",
    "    X, y, X_val, y_val, degrees=degrees, lr=0.5, num_steps=500, architecture=LogisticRegression\n",
    ")\n",
    "sns.lineplot(x=degrees, y=accuracy_scores_train, label=\"Train\")\n",
    "sns.lineplot(x=degrees, y=accuracy_scores_test,  label=\"Test\")\n",
    "plt.xlabel(\"Degree\")\n",
    "plt.ylabel(\"Accuracy Score\")\n",
    "plt.xticks(degrees)\n",
    "plt.show()"
   ]
  },
  {
   "cell_type": "markdown",
   "id": "c8c0052d",
   "metadata": {},
   "source": [
    "Plot the best and the worst decision boundaries for $\\texttt{degree} \\geq 2$.\n",
    "\n",
    "--------------------------------------------\n",
    "**Write your code below this line**\n",
    "\n",
    "--------------------------------------------"
   ]
  },
  {
   "cell_type": "code",
   "execution_count": 28,
   "id": "7c483b33",
   "metadata": {},
   "outputs": [
    {
     "data": {
      "image/png": "[encoded data removed]",
      "text/plain": [
       "<Figure size 432x288 with 1 Axes>"
      ]
     },
     "metadata": {
      "needs_background": "light"
     },
     "output_type": "display_data"
    }
   ],
   "source": [
    "# Plot worst model\n",
    "\n",
    "best_degree = degrees[np.argmax(accuracy_scores_test[1:]) + 1]# Exclude degree=1\n",
    "worst_degree = degrees[np.argmin(accuracy_scores_test[1:]) + 1]  # Exclude degree=1\n",
    "\n",
    "# print(f\"Worst Degree: {worst_degree}\")\n",
    "\n",
    "\n",
    "plt.subplot(1, 2, 2)\n",
    "plot_boundary_function(\n",
    "    X, y, thetas[worst_degree - 1], degree=worst_degree\n",
    ")  # Adjust index\n",
    "plt.title(f\"Worst Model (Degree {worst_degree})\")\n",
    "\n",
    "plt.tight_layout()\n",
    "plt.show()"
   ]
  },
  {
   "cell_type": "code",
   "execution_count": 29,
   "id": "2aa71ea4",
   "metadata": {},
   "outputs": [
    {
     "data": {
      "image/png": "[encoded data removed]",
      "text/plain": [
       "<Figure size 720x360 with 1 Axes>"
      ]
     },
     "metadata": {
      "needs_background": "light"
     },
     "output_type": "display_data"
    }
   ],
   "source": [
    "# Plot the best model\n",
    "plt.figure(figsize=(10, 5))\n",
    "plt.subplot(1, 2, 1)\n",
    "plot_boundary_function(\n",
    "    X, y, thetas[best_degree - 1], degree=best_degree\n",
    ")  # Adjust index\n",
    "plt.title(f\"Best Model (Degree {best_degree})\")\n",
    "plt.show()"
   ]
  },
  {
   "cell_type": "markdown",
   "id": "e6eae9e4",
   "metadata": {
    "id": "rQGJhknOE3-U"
   },
   "source": [
    "#### **Report** \n",
    "Write now your considerations. Discuss in particular:\n",
    "1. Look back at the plots you have generated. What can you say about the differences between the linear, quadratic, and cubic decision boundaries? Can you say if the model is improving in performances, increasing the degree of the polynomial? Do you think you can incur in underfitting increasing more and more the degree?\n",
    "2. Look at the plot of the training and test accuracy as a function of the polynomial degree. What can you say about the differences between the training and test accuracy? What can you say about the differences between the best and the worst test accuracy? In general, is it desirable to have a very complex decision boundary, i.e. a very high degree of the polynomial? Discuss and motivate your answer. \n",
    "3. In general what are some properties of the dataset that makes it more prone to overfitting? Discuss their impact.\n"
   ]
  },
  {
   "cell_type": "markdown",
   "id": "08abefa0",
   "metadata": {
    "id": "9C3gOx5_E3-U"
   },
   "source": [
    "-------------------------------------------------------\n",
    "\n",
    "\n",
    "**WRITE YOUR ANSWER HERE:**\n",
    "\n",
    "1. **Differences Between Linear, Quadratic, and Cubic Decision Boundaries**\n",
    "   - The **linear decision boundary** is simple and can only separate data with a straight line. This works well if the data is linearly separable but struggles with non-linear distributions, leading to **underfitting**.\n",
    "   - The **quadratic decision boundary** introduces more flexibility by adding polynomial terms (e.g., \\(x_1^2, x_2^2, x_1x_2\\)). It can capture more complex relationships, significantly improving performance if the data exhibits a quadratic trend.\n",
    "   - The **cubic decision boundary** further increases flexibility by adding cubic terms. While this improves performance on training data, it might overfit to noise if the degree becomes unnecessarily high.\n",
    "   - **Performance with Increasing Polynomial Degree:** Initially, the performance improves as the decision boundary captures more complexity (e.g., moving from linear to quadratic). However, increasing the degree too much can lead to **overfitting**, where the model memorizes training data patterns rather than generalizing.\n",
    "   - **Underfitting with High Degrees:** While increasing the degree generally risks overfitting, extreme cases (e.g., very high degrees combined with insufficient data) can paradoxically result in underfitting if the model struggles with numerical instability or irrelevant features.\n",
    "\n",
    "2. **Training vs. Test Accuracy as a Function of Polynomial Degree**\n",
    "   - **Training Accuracy:** As the degree increases, the training accuracy improves and often reaches 100% because the model becomes increasingly complex, capturing even minor patterns in the training data.\n",
    "   - **Test Accuracy:** The test accuracy initially increases (e.g., moving from degree 1 to 2 or 3), but after a certain point, it starts to decrease. This is because the model begins overfitting—fitting to the training data's noise and losing its ability to generalize to unseen data.\n",
    "   - **Best vs. Worst Test Accuracy:** The **best test accuracy** is achieved at a moderate degree where the decision boundary appropriately balances complexity and generalization. The **worst test accuracy** (for degrees ≥ 2) is typically associated with either very low degrees (underfitting) or very high degrees (overfitting).\n",
    "   - **Complex Decision Boundaries:** A very high degree polynomial is generally **not desirable** because it overfits, leading to poor generalization on test data. A moderate degree that balances training and test accuracy is optimal.\n",
    "\n",
    "3. **Dataset Properties That Make It Prone to Overfitting**\n",
    "   - **Small Dataset Size:** When the dataset is small, the model has fewer examples to learn general patterns, making it prone to overfitting noise in the data.\n",
    "   - **High Feature-to-Sample Ratio:** If there are many features compared to the number of samples, the model can fit the training data perfectly but fail to generalize, leading to overfitting.\n",
    "   - **Noisy Data:** Noise in the dataset (e.g., mislabeled points or random variations) can cause the model to overfit irrelevant details rather than learning the true underlying pattern.\n",
    "   - **Class Imbalance:** When one class significantly outweighs another, the model may overfit the majority class, ignoring the minority class.\n",
    "   - **Impact of Overfitting:** Overfitting reduces the model's ability to perform well on new data, which defeats the purpose of machine learning. It is crucial to address these properties through techniques like regularization, increasing the dataset size, or simplifying the model.\n",
    "\n",
    "-------------------------------------------------------"
   ]
  },
  {
   "cell_type": "markdown",
   "id": "1f456b6e",
   "metadata": {},
   "source": [
    "### **2.4: Weight Penalization**\n",
    "\n",
    "Look at how complicated the decision boundaries become as you increase the degree. Can we improve this and prevent overfitting?\n",
    "When dealing with overfitting one frequent solution is to use a weigth penalization technique like L2 or L1 penalization. \n",
    "\n",
    "In our case we'll use L2 regularization. In this way the regularized likelihood will be:\n",
    "$$\n",
    "\\texttt{Likelihood}_{reg}(\\theta) = \\texttt{Likelihood}(\\theta) - \\frac{\\lambda}{2n} \\sum^n_i \\theta_i^2\n",
    "$$\n",
    "Thus we can derive the update rule as:\n",
    "\\begin{equation}\n",
    "\\theta_j:= \\theta_j + \\alpha( \\frac{\\partial l(\\theta_j)}{\\partial \\theta_j} -  \\frac{\\partial}{\\partial \\theta_j} \\left( \\frac{\\lambda}{2} \\theta_j^2 \\right ) )\n",
    "\\end{equation}\n",
    "\n",
    "Calculating the second term of the update rule it's just a matter of analytically solving a simple gradient, do it, and then implement it by extending the `LogisticRegression` class:\n",
    "\n",
    "--------------------------------------------\n",
    "\n",
    "**Fill in the code in `libs/models/logisic_regression_penalized.py`**\n",
    "\n",
    "--------------------------------------------"
   ]
  },
  {
   "cell_type": "code",
   "execution_count": 30,
   "id": "fb7cc62c",
   "metadata": {},
   "outputs": [],
   "source": [
    "from libs.models.logistic_regression_penalized import LogisticRegressionPenalized"
   ]
  },
  {
   "cell_type": "code",
   "execution_count": 31,
   "id": "19371cf3",
   "metadata": {},
   "outputs": [
    {
     "data": {
      "text/plain": [
       "<matplotlib.legend.Legend at 0x22a1ef66940>"
      ]
     },
     "execution_count": 31,
     "metadata": {},
     "output_type": "execute_result"
    },
    {
     "data": {
      "image/png": "[encoded data removed]",
      "text/plain": [
       "<Figure size 576x360 with 1 Axes>"
      ]
     },
     "metadata": {
      "needs_background": "light"
     },
     "output_type": "display_data"
    }
   ],
   "source": [
    "X,y = make_classification(\n",
    "    n_samples=500, \n",
    "    n_features=100, \n",
    "    n_informative=50, \n",
    "    n_redundant=25, \n",
    "    n_classes=2, random_state=42)\n",
    "\n",
    "X_train, X_val, y_train, y_val = train_test_split(X, y, test_size=0.2, random_state=42)\n",
    "np.random.seed(42)\n",
    "\n",
    "lr = LogisticRegression(X.shape[1])\n",
    "likelihood_history, val_loss_history = fit(lr, X_train, y_train, X_val, y_val, lr=1e-2, num_steps=200)\n",
    "\n",
    "penalized_lt = LogisticRegressionPenalized(X.shape[1], 2)\n",
    "pen_history, pen_val_history = fit(penalized_lt, X_train, y_train, X_val, y_val, lr=1e-2, num_steps=200)\n",
    "\n",
    "plt.figure(figsize=(8, 5))\n",
    "plt.plot(-likelihood_history[2:], label=\"Train\", color=\"violet\")\n",
    "plt.plot(val_loss_history[2:], label=\"Test\", color='teal')\n",
    "plt.plot(-pen_history[2:], label=\"Train - penalized\", color=\"violet\", linestyle=\"--\")\n",
    "plt.plot(pen_val_history[2:], label=\"Test - penalized\", color=\"teal\", linestyle=\"--\")\n",
    "plt.xlabel(\"Iterations\")\n",
    "plt.ylabel(\"Loss\")\n",
    "plt.title(\"Non-penalized\")\n",
    "plt.legend()"
   ]
  },
  {
   "cell_type": "markdown",
   "id": "58bee8a3",
   "metadata": {},
   "source": [
    "Now, evaluate the Penalized Logistic Regression for each value of $\\lambda \\in [0,3]$ and find the one that performs the best: "
   ]
  },
  {
   "cell_type": "code",
   "execution_count": 32,
   "id": "cb84e3bf",
   "metadata": {},
   "outputs": [
    {
     "name": "stderr",
     "output_type": "stream",
     "text": [
      "c:\\Users\\skhizanishvili\\Desktop\\Sapienza\\FDS\\FDS PROD\\libs\\math.py:5: RuntimeWarning: overflow encountered in exp\n",
      "  return 1 / (1 + np.exp(-x))\n"
     ]
    },
    {
     "name": "stdout",
     "output_type": "stream",
     "text": [
      "Best lambda: 0.0\n"
     ]
    },
    {
     "data": {
      "image/png": "[encoded data removed]",
      "text/plain": [
       "<Figure size 432x288 with 1 Axes>"
      ]
     },
     "metadata": {
      "needs_background": "light"
     },
     "output_type": "display_data"
    }
   ],
   "source": [
    "lambdas = np.arange(0, 3, 0.1)\n",
    "losses = []\n",
    "\n",
    "for lambda_ in lambdas:\n",
    "    # Initialize the penalized logistic regression model\n",
    "    model = LogisticRegressionPenalized(num_features=X.shape[1], lambda_=lambda_)\n",
    "    \n",
    "    # Fit the model using the training data\n",
    "    fit(model, X, y, lr=0.5, num_steps=500)\n",
    "    \n",
    "    # Compute the validation loss\n",
    "    val_preds = model.predict(X_val)\n",
    "    val_loss = -model.likelihood(val_preds, y_val)  # Negative likelihood as loss\n",
    "    losses.append(val_loss)\n",
    "\n",
    "# Plot the validation loss vs lambda\n",
    "if len(losses) > 0:\n",
    "    sns.lineplot(x=lambdas, y=losses, label=\"Validation Loss\").set(\n",
    "        xlabel=\"Lambda\", ylabel=\"Loss\", title=\"Validation Loss vs Lambda\"\n",
    "    )\n",
    "    best_lambda = lambdas[np.argmin(losses)]\n",
    "    print(f\"Best lambda: {best_lambda}\")\n"
   ]
  },
  {
   "cell_type": "markdown",
   "id": "8a9a196b",
   "metadata": {},
   "source": [
    "#### Report\n",
    "Write now your considerations. In particular:\n",
    "1. What happens when we use a non-penalized logistic regression?\n",
    "2. Observe the plot of the Train and Validation losses in the penalized vs non penalized case. In which case is the Train loss better? Can you explain why?\n",
    "3. What is the convergence rate? How is it influenced by the penalization?\n",
    "\n",
    "-------------------------------------------------------\n",
    "\n",
    "\n",
    "**WRITE YOUR ANSWER HERE:**\n",
    "\n",
    "1. What happens when we use a non-penalized logistic regression?\n",
    "\n",
    "        Observation: In the non-penalized case, the model overfits the data, especially for higher polynomial degrees. This is evident from:\n",
    "        A more complex decision boundary that captures noise in the training data.\n",
    "        A low training loss but a significantly higher validation loss.\n",
    "        Explanation: Without penalization, the model assigns large weights to features to maximize the likelihood, leading to a high variance and poor generalization on unseen data (validation set).\n",
    "2. Observe the plot of the Train and Validation losses in the penalized vs non-penalized case. In which case is the Train loss better? Can you explain why?\n",
    "\n",
    "        Train Loss:\n",
    "        The non-penalized logistic regression achieves a better (lower) train loss because it does not restrict the weights. It focuses solely on fitting the training data, even at the cost of overfitting.\n",
    "        The penalized logistic regression results in a higher train loss because the L2 penalty discourages large weights, leading to a less complex but more generalizable model.\n",
    "        Validation Loss:\n",
    "        The penalized logistic regression achieves a lower validation loss, indicating better generalization.\n",
    "        Explanation: The penalized model sacrifices some training performance by regularizing weights to prevent overfitting, thereby achieving a better balance between training and validation performance.\n",
    "3. What is the convergence rate? How is it influenced by the penalization?\n",
    "\n",
    "        Convergence Rate:\n",
    "        The penalized model converges slower compared to the non-penalized model because the L2 penalty introduces an additional constraint that needs to be satisfied during optimization.\n",
    "        Influence of Penalization:\n",
    "        Penalization reduces the magnitude of parameter updates, particularly for larger weights. This slows down convergence as the optimization process must balance fitting the data and minimizing the penalty term.\n",
    "        Trade-off: While penalization slightly slows convergence, it ensures that the model does not overfit and achieves better generalization, as evident from the validation loss.\n",
    "\n",
    "-------------------------------------------------------"
   ]
  },
  {
   "cell_type": "markdown",
   "id": "7faba031",
   "metadata": {
    "id": "JTeuyG-S3uGH",
    "tags": []
   },
   "source": [
    "## 3: **Multinomial Classification**"
   ]
  },
  {
   "cell_type": "markdown",
   "id": "e107612c",
   "metadata": {
    "id": "KS-AS1PUE3-V"
   },
   "source": [
    "### **3.1: Softmax Regression Model**\n",
    "\n",
    "In the multinomial classification we generally have $K>2$ classes. So the label for the $i$-th sample $X_i$ is $y_i\\in\\{1,...,K\\}$, where $i=1,...,N$. The output class for each sample is estimated by returning a score $s_i$ for each of the K classes. This results in a vector of scores of dimension K. \n",
    "In this exercise we'll use the *Softmax Regression* model, which is the natural extension of *Logistic Regression* for the case of more than 2 classes. The score array is given by the linear model:\n",
    "\n",
    "\\begin{align*}\n",
    "s_i =  X_i \\theta\n",
    "\\end{align*}\n",
    "\n",
    "Scores may be interpreted probabilistically, upon application of the function *softmax*. The position in the vector with the highest probability will be predicted as the output class. The probability of the class k for the $i$-th data sample is:\n",
    "\n",
    "\\begin{align*}\n",
    "p_{ik} = \\frac{\\exp(X_i \\theta_k)}{\\sum_{j=1}^K(X_i \\theta_j))}\n",
    "\\end{align*}\n",
    "\n",
    "We will adopt the *Cross Entropy* loss and optimize the model via *Gradient Descent*. \n",
    "In the first of this exercise we have to: \n",
    "-    Write the equations of the Cross Entropy loss for the Softmax regression model;\n",
    "-    Compute the equation for the gradient of the Cross Entropy loss for the model, in order to use it in the gradient descent algorithm.\n",
    "\n",
    "#### A bit of notation\n",
    "\n",
    "*  N: is the number of samples \n",
    "*  K: is the number of classes\n",
    "*  X: is the input dataset and it has shape (N, H) where H is the number of features\n",
    "*  y: is the output array with the labels; it has shape (N, 1)\n",
    "*  $\\theta$: is the parameter matrix of the model; it has shape (H, K)"
   ]
  },
  {
   "cell_type": "markdown",
   "id": "753c8304",
   "metadata": {
    "id": "xHX1s7jp3uGI"
   },
   "source": [
    "--------------------------------------------\n",
    "**Write you equation below this line**\n",
    "\n",
    "--------------------------------------------"
   ]
  },
  {
   "cell_type": "markdown",
   "id": "45ddae4c",
   "metadata": {},
   "source": [
    "\\begin{align*}\n",
    "L(\\theta) = -\\frac{1}{N} \\sum_{i=1}^{N} \\sum_{k=1}^{K} y_{ik} \\log(p_{ik})\n",
    "\\end{align*}\n",
    "\n",
    "\\begin{align*}\n",
    "Loss(\\theta) = -\\frac{1}{N} \\sum_{i=1}^{N} \\sum_{k=1}^{K} y_{ik} \\log\\left(\\frac{\\exp(\\mathbf{X}_i^\\top \\theta_k)}{\\sum_{j=1}^{K} \\exp(\\mathbf{X}_i^\\top \\theta_j)}\\right)\n",
    "\\end{align*}\n",
    "\n",
    "\n",
    "\\begin{align*}\n",
    "\\nabla_{\\theta_k} L(\\theta) =  -\\frac{1}{N} \\sum_{i=1}^{N} \\sum_{k=1}^K \\mathbf{X}_i \\cdot (y_{ik} - p_{ik})\n",
    "\\end{align*}"
   ]
  },
  {
   "cell_type": "markdown",
   "id": "60ccc0db",
   "metadata": {
    "id": "rMxrcWc53uGI"
   },
   "source": [
    "### **3.2: Coding**\n",
    "\n",
    "We are using the CIFAR-10 dataset for this exercise. The CIFAR-10 dataset consists of 60,000 32x32 color images in 10 classes, with 6,000 images per class. It has 50,000 training images and 10,000 test images. The dataset was established by the Canadian Institute For Advanced Research (CIFAR), and it has become a standard benchmark for machine learning algorithms, especially in the area of image classification."
   ]
  },
  {
   "cell_type": "code",
   "execution_count": 33,
   "id": "b9e56f3a",
   "metadata": {},
   "outputs": [
    {
     "name": "stdout",
     "output_type": "stream",
     "text": [
      "Files already downloaded and verified\n",
      "Files already downloaded and verified\n"
     ]
    }
   ],
   "source": [
    "import torchvision.datasets as datasets\n",
    "import torchvision.transforms as transforms\n",
    "\n",
    "cifar_dir = \"assets/cifar10\"\n",
    "transform = transforms.Compose([transforms.ToTensor()])\n",
    "train_data = datasets.CIFAR10(\n",
    "    root=cifar_dir, train=True, download=True, transform=transform\n",
    ")\n",
    "test_data = datasets.CIFAR10(\n",
    "    root=cifar_dir, train=False, download=True, transform=transform\n",
    ")\n",
    "\n",
    "# Convert labels to one-hot encoded format\n",
    "def one_hot_encode(y, num_classes=10):\n",
    "    encoded = np.zeros((len(y), num_classes))\n",
    "    for i, val in enumerate(y):\n",
    "        encoded[i, val] = 1\n",
    "    return encoded\n",
    "\n",
    "# Evaluate the accuracy of the predictions\n",
    "def compute_accuracy(predictions, true_labels):\n",
    "    correct_predictions = np.sum(predictions == true_labels)\n",
    "    total_predictions = len(true_labels)\n",
    "    return correct_predictions / total_predictions\n",
    "\n",
    "# Preprocess the data\n",
    "X_train = [img.reshape(-1).numpy() for img, _ in train_data]\n",
    "X_train = np.array(X_train)\n",
    "y_train = [label for _, label in train_data]\n",
    "\n",
    "X_val = [img.reshape(-1).numpy() for img, _ in test_data]\n",
    "X_val = np.array(X_val)\n",
    "y_val = [label for _, label in test_data]\n",
    "\n",
    "\n",
    "# Add bias term to X\n",
    "X_train = np.hstack([X_train, np.ones((X_train.shape[0], 1))])\n",
    "X_val = np.hstack([X_val, np.ones((X_val.shape[0], 1))])\n",
    "\n",
    "y_train_onehot = one_hot_encode(y_train)\n",
    "y_test_onehot = one_hot_encode(y_val)"
   ]
  },
  {
   "cell_type": "markdown",
   "id": "508f30d9",
   "metadata": {
    "id": "2RrCmafP3uGI"
   },
   "source": [
    "*Hint: consider the labels as one-hot vector. This will allow matrix operations (element-wise multiplication and summation).*"
   ]
  },
  {
   "cell_type": "markdown",
   "id": "5d63efe6",
   "metadata": {},
   "source": [
    "Now implement a classifier for Multinomial Classification using the `softmax` function. Again, implement it as a class with the methods:\n",
    "- `predict`\n",
    "- `predict_labels`\n",
    "- `likelihood` *(Here you need to implement the Cross Entropy Loss)*\n",
    "- `update_theta`\n",
    "- `compute_gradient` to compute the Jacobian $\\nabla$\n",
    "\n",
    "Note that this this you don't need to reimplement the `fit()` function since the training loop you defined above works also for a Multinomial Classifier, provided that this is structured with the previously mentioned methods.\n",
    "\n",
    "--------------------------------------------\n",
    "\n",
    "**Fill in the code in `libs/models/multinomial.py` and `libs/math.py/softmax()`**\n",
    "\n",
    "--------------------------------------------"
   ]
  },
  {
   "cell_type": "code",
   "execution_count": 34,
   "id": "4bbca091",
   "metadata": {},
   "outputs": [],
   "source": [
    "from libs.models.multinomial import SoftmaxClassifier\n",
    "from libs.optim import fit"
   ]
  },
  {
   "cell_type": "markdown",
   "id": "8c21abf9",
   "metadata": {},
   "source": [
    "--------------------------------------------\n",
    "\n",
    "**Do not write below this line just run it**\n",
    "\n",
    "--------------------------------------------\n",
    "\n",
    "*Execution can take around 10 minutes*"
   ]
  },
  {
   "cell_type": "code",
   "execution_count": 35,
   "id": "7353b3df",
   "metadata": {},
   "outputs": [
    {
     "name": "stdout",
     "output_type": "stream",
     "text": [
      "Training accuracy: 36.99%\n",
      "Test accuracy: 36.54%\n"
     ]
    }
   ],
   "source": [
    "# Apply gradient descent to optimize theta\n",
    "alpha = 0.01\n",
    "iterations = 500\n",
    "H, K = X_train.shape[1], 10  # number of features and number of classes\n",
    "model = SoftmaxClassifier(num_features=H, num_classes=K)\n",
    "loss_history, _ = fit(model, X_train, y_train_onehot, lr=alpha, num_steps=iterations)\n",
    "\n",
    "# Make predictions on the training and test data\n",
    "train_predictions = model.predict_labels(X_train)\n",
    "test_predictions = model.predict_labels(X_val)\n",
    "\n",
    "train_accuracy = compute_accuracy(train_predictions, y_train)\n",
    "test_accuracy = compute_accuracy(test_predictions, y_val)\n",
    "\n",
    "print(f\"Training accuracy: {train_accuracy * 100:.2f}%\")\n",
    "print(f\"Test accuracy: {test_accuracy * 100:.2f}%\")"
   ]
  },
  {
   "cell_type": "markdown",
   "id": "46307d23",
   "metadata": {},
   "source": [
    "### **3.3: Pipeline**\n",
    "Now you're going to use `scikit-learn` library to build a pipeline of operations to redo everything we've done so far in the homework. First we have loaded the required modules and the penguins dataset.\n",
    "\n",
    "---\n",
    "\n",
    "Then here you'll build the pipeline. We need four items:\n",
    "1. The Numerical Transformer, to handle the preprocessing of numerical columns, by:\n",
    "    - Imputing missing values with their mean\n",
    "    - Enrich the features with a 3-rd degree polynomial expansion\n",
    "    - Scaling of the features to $\\mu=0, \\sigma=1$\n",
    "2. The Categorical Transformer, to handle the preprocessing of categorical values, by:\n",
    "    - Imputing the missing values with the most frequent value\n",
    "    - Encode the features in a one-hot vector.\n",
    "3. The Preprocessor: a ColumnTransformer that distributed the numerical columns to the numerical transformer and the categorical columns to the categorical tranformer.\n",
    "4. The final Pipeline, which contains the preprocessor and the classfier of your choice (in this case `KNeighborsClassifier`)"
   ]
  },
  {
   "cell_type": "code",
   "execution_count": 36,
   "id": "ffae09bf",
   "metadata": {},
   "outputs": [],
   "source": [
    "data = pd.read_csv('assets/train.csv')\n",
    "\n",
    "X_train, X_val, y_train, y_val = train_test_split(data.drop('species', axis=1), data.species, test_size=0.2, random_state=42)"
   ]
  },
  {
   "cell_type": "code",
   "execution_count": 37,
   "id": "91db325f",
   "metadata": {},
   "outputs": [
    {
     "data": {
      "text/plain": [
       "Pipeline(steps=[('columntransformer',\n",
       "                 ColumnTransformer(transformers=[('num',\n",
       "                                                  Pipeline(steps=[('simpleimputer',\n",
       "                                                                   SimpleImputer()),\n",
       "                                                                  ('polynomialfeatures',\n",
       "                                                                   PolynomialFeatures(degree=3,\n",
       "                                                                                      include_bias=False)),\n",
       "                                                                  ('standardscaler',\n",
       "                                                                   StandardScaler())]),\n",
       "                                                  ['bill_length', 'bill_depth',\n",
       "                                                   'flipper_length',\n",
       "                                                   'body_mass']),\n",
       "                                                 ('cat',\n",
       "                                                  Pipeline(steps=[('simpleimputer',\n",
       "                                                                   SimpleImputer(strategy='most_frequent')),\n",
       "                                                                  ('onehotencoder',\n",
       "                                                                   OneHotEncoder(drop='if_binary'))]),\n",
       "                                                  ['island', 'sex'])])),\n",
       "                ('kneighborsclassifier', KNeighborsClassifier(n_neighbors=4))])"
      ]
     },
     "metadata": {},
     "output_type": "display_data"
    }
   ],
   "source": [
    "numerical_cols = ['bill_length', 'bill_depth', 'flipper_length', 'body_mass']\n",
    "categorical_cols = ['island', 'sex']\n",
    "\n",
    "from sklearn.compose import ColumnTransformer\n",
    "from sklearn.pipeline import make_pipeline\n",
    "from sklearn.impute import SimpleImputer\n",
    "from sklearn.preprocessing import StandardScaler, OneHotEncoder, PolynomialFeatures\n",
    "from sklearn.neighbors import KNeighborsClassifier\n",
    "\n",
    "\n",
    "numeric_transformer = make_pipeline(\n",
    "    SimpleImputer(strategy='mean'), # Impute missing values with the mean\n",
    "    PolynomialFeatures(degree=3, include_bias=False), # Add polynomial features\n",
    "    StandardScaler() # Scale features to mean=0, std=1\n",
    "\n",
    ")\n",
    "\n",
    "\n",
    "categoric_transfomer = make_pipeline(\n",
    "     SimpleImputer(strategy='most_frequent'),  # Impute missing values with the most frequent value\n",
    "     OneHotEncoder(handle_unknown='error', drop='if_binary') # Encode categorical features\n",
    "\n",
    ")\n",
    "\n",
    "preprocessor = ColumnTransformer(transformers=[\n",
    "    ('num', numeric_transformer, numerical_cols),  # Apply numerical transformer to numerical columns\n",
    "    ('cat', categoric_transfomer, categorical_cols) # Apply categorical transformer to categorical columns\n",
    "], remainder='drop') # Drop any columns not explicitly transformed\n",
    "\n",
    "pipe = make_pipeline(\n",
    "    preprocessor, # Preprocess data\n",
    "    KNeighborsClassifier(n_neighbors=4) # Classifier of choice\n",
    ")\n",
    "if len(pipe.named_steps)>0:\n",
    "    display(pipe)"
   ]
  },
  {
   "cell_type": "markdown",
   "id": "9a20cc4b",
   "metadata": {},
   "source": [
    "Now, we can use this pipeline to preprocess the input data and fit a classifier. Leveraging `scikit-learn`'s pipelines allows you to:\n",
    "- Define the entire chain of operations in a structured way, which is especially useful for cleaning and transforming data.\n",
    "- Separate the definition of operations from their execution, creating a clean and organized workflow.\n",
    "\n",
    "This approach makes it easier to manage complex preprocessing steps while maintaining readability and clarity in your code."
   ]
  },
  {
   "cell_type": "code",
   "execution_count": 38,
   "id": "1829845c",
   "metadata": {},
   "outputs": [
    {
     "name": "stdout",
     "output_type": "stream",
     "text": [
      "              precision    recall  f1-score   support\n",
      "\n",
      "      Adelie       0.71      0.75      0.73        20\n",
      "   Chinstrap       0.71      0.56      0.63         9\n",
      "      Gentoo       0.62      0.67      0.64        12\n",
      "\n",
      "    accuracy                           0.68        41\n",
      "   macro avg       0.68      0.66      0.67        41\n",
      "weighted avg       0.69      0.68      0.68        41\n",
      "\n"
     ]
    }
   ],
   "source": [
    "pipe.fit(X_train, y_train)\n",
    "\n",
    "y_pred = pipe.predict(X_val)\n",
    "print(classification_report(y_val, y_pred))"
   ]
  },
  {
   "cell_type": "markdown",
   "id": "37fd86ac",
   "metadata": {},
   "source": [
    "This is nice but can we improve it? In defining the pipeline you certainly used some fixed hyperparameters, for example the number of neighbors or the degree of the polynomial expansion.\n",
    "\n",
    "First, let's look at the list of hyperparameters: "
   ]
  },
  {
   "cell_type": "code",
   "execution_count": 39,
   "id": "4dcfd619",
   "metadata": {},
   "outputs": [
    {
     "name": "stdout",
     "output_type": "stream",
     "text": [
      "columntransformer__remainder: drop\n",
      "columntransformer__sparse_threshold: 0.3\n",
      "columntransformer__num__simpleimputer__missing_values: nan\n",
      "columntransformer__num__simpleimputer__strategy: mean\n",
      "columntransformer__num__simpleimputer__verbose: 0\n",
      "columntransformer__num__polynomialfeatures__degree: 3\n",
      "columntransformer__num__polynomialfeatures__order: C\n",
      "columntransformer__cat__simpleimputer__missing_values: nan\n",
      "columntransformer__cat__simpleimputer__strategy: most_frequent\n",
      "columntransformer__cat__simpleimputer__verbose: 0\n",
      "columntransformer__cat__onehotencoder__categories: auto\n",
      "columntransformer__cat__onehotencoder__drop: if_binary\n",
      "columntransformer__cat__onehotencoder__handle_unknown: error\n",
      "kneighborsclassifier__algorithm: auto\n",
      "kneighborsclassifier__leaf_size: 30\n",
      "kneighborsclassifier__metric: minkowski\n",
      "kneighborsclassifier__n_neighbors: 4\n",
      "kneighborsclassifier__p: 2\n",
      "kneighborsclassifier__weights: uniform\n"
     ]
    }
   ],
   "source": [
    "hparams = pipe.get_params()\n",
    "for hp, val in hparams.items():\n",
    "    if type(val) not in [int, float, str]:\n",
    "        continue\n",
    "    print(f\"{hp}: {val}\")"
   ]
  },
  {
   "cell_type": "markdown",
   "id": "7a99eea0",
   "metadata": {},
   "source": [
    "Some of these hyperparameters are set to their default values, while others are explicitly defined. However, any data scientist knows that hyperparameters should not be arbitrarily chosen; instead, they should be optimized through **Cross-Validation**.\n",
    "\n",
    "We can leverage the compositionality of `scikit-learn` by incorporating the pipeline into a `GridSearchCV` class. This allows you to easily define a grid of parameters to val and automatically perform cross-validation over the combinations.\n",
    "\n",
    "Choose at least 2 values for at least 3 hyperparameters. val their impact on the model and find the best combination."
   ]
  },
  {
   "cell_type": "code",
   "execution_count": 42,
   "id": "5b7e2b1b",
   "metadata": {},
   "outputs": [
    {
     "name": "stdout",
     "output_type": "stream",
     "text": [
      "Best score: 0.7325757575757577\n",
      "columntransformer__num__polynomialfeatures__degree: 2\n",
      "kneighborsclassifier__n_neighbors: 5\n",
      "kneighborsclassifier__weights: uniform\n"
     ]
    }
   ],
   "source": [
    "from sklearn.model_selection import GridSearchCV\n",
    "\n",
    "grid = {\n",
    "    'columntransformer__num__polynomialfeatures__degree': [2, 3],  # Polynomial degrees to test\n",
    "    'kneighborsclassifier__n_neighbors': [3, 5, 7],  # Number of neighbors\n",
    "    'kneighborsclassifier__weights': ['uniform', 'distance']  # Weighting method\n",
    "}\n",
    "\n",
    "pipe_cv = GridSearchCV(estimator=pipe, param_grid=grid, cv=5, scoring='accuracy', return_train_score=True, n_jobs=-1)\n",
    "if pipe_cv is not None:\n",
    "    pipe_cv.fit(X_train, y_train)\n",
    "\n",
    "    print(f\"Best score: {pipe_cv.best_score_}\")\n",
    "    for hp, val in pipe_cv.best_params_.items():\n",
    "        print(f\"{hp}: {val}\")"
   ]
  },
  {
   "cell_type": "markdown",
   "id": "054a24ba",
   "metadata": {},
   "source": [
    "`GridSearchCV` doesn't only find the best combination of hyperparmeters, but it also refits the model with the best hyperparameters it finds. Let's val this new model:"
   ]
  },
  {
   "cell_type": "code",
   "execution_count": 43,
   "id": "d76df863",
   "metadata": {},
   "outputs": [
    {
     "name": "stdout",
     "output_type": "stream",
     "text": [
      "              precision    recall  f1-score   support\n",
      "\n",
      "      Adelie       0.75      0.75      0.75        20\n",
      "   Chinstrap       0.67      0.67      0.67         9\n",
      "      Gentoo       0.67      0.67      0.67        12\n",
      "\n",
      "    accuracy                           0.71        41\n",
      "   macro avg       0.69      0.69      0.69        41\n",
      "weighted avg       0.71      0.71      0.71        41\n",
      "\n"
     ]
    }
   ],
   "source": [
    "y_pred = pipe_cv.predict(X_val)\n",
    "print(classification_report(y_val, y_pred))"
   ]
  },
  {
   "cell_type": "markdown",
   "id": "661c4ac8",
   "metadata": {},
   "source": [
    "#### Report\n",
    "1. How many combinations has your gridsearch tried?\n",
    "2. Make a plot with the results of your hyperparameter grid\n",
    "3. Do you notice any trend in the performance of certain hyperparameters?\n",
    "4. Do the classifiers obtain the same accuracy on train and val sets? If not, try to give an explanation.\n",
    "5. With the choice of hyperparameters you made, do you notice any trade-off between accuracy and compute power? Show with a plot."
   ]
  },
  {
   "cell_type": "code",
   "execution_count": 44,
   "id": "612d84a6",
   "metadata": {},
   "outputs": [
    {
     "name": "stderr",
     "output_type": "stream",
     "text": [
      "<ipython-input-44-475ca3dc95f4>:11: SettingWithCopyWarning: \n",
      "A value is trying to be set on a copy of a slice from a DataFrame.\n",
      "Try using .loc[row_indexer,col_indexer] = value instead\n",
      "\n",
      "See the caveats in the documentation: https://pandas.pydata.org/pandas-docs/stable/user_guide/indexing.html#returning-a-view-versus-a-copy\n",
      "  degree_nbr_weights['degree-nbr-weights'] = degree_nbr_weights.apply(\n"
     ]
    },
    {
     "data": {
      "image/png": "[encoded data removed]",
      "text/plain": [
       "<Figure size 720x432 with 1 Axes>"
      ]
     },
     "metadata": {
      "needs_background": "light"
     },
     "output_type": "display_data"
    }
   ],
   "source": [
    "cv_res = pd.DataFrame(pipe_cv.cv_results_)\n",
    "cv_res.columns = [col.split('__')[-1] for col in cv_res.columns]\n",
    "\n",
    "# Create a DataFrame for plotting\n",
    "degree_nbr_weights = cv_res[['degree', \n",
    "                             'n_neighbors', \n",
    "                             'weights', \n",
    "                             'mean_test_score']]\n",
    "\n",
    "# Convert columns to string for better visualization\n",
    "degree_nbr_weights['degree-nbr-weights'] = degree_nbr_weights.apply(\n",
    "    lambda row: f\"deg={row['degree']}, \" +\n",
    "                f\"n={row['n_neighbors']}, \" +\n",
    "                f\"w={row['weights']}\", axis=1)\n",
    "\n",
    "# Sort and plot\n",
    "plt.figure(figsize=(10, 6))\n",
    "sns.barplot(data=degree_nbr_weights, \n",
    "            x='degree-nbr-weights', \n",
    "            y='mean_test_score', \n",
    "            palette='viridis')\n",
    "plt.xticks(rotation=45, ha='right')\n",
    "plt.xlabel(\"Hyperparameter Combinations\")\n",
    "plt.ylabel(\"Mean Test Score\")\n",
    "plt.title(\"Grid Search Results\")\n",
    "plt.tight_layout()\n",
    "plt.show()\n"
   ]
  },
  {
   "cell_type": "code",
   "execution_count": 45,
   "id": "6650c34d",
   "metadata": {},
   "outputs": [
    {
     "name": "stdout",
     "output_type": "stream",
     "text": [
      "Number of combinations tried: 12\n"
     ]
    }
   ],
   "source": [
    "# number of combinations\n",
    "n_combinations = len(grid['columntransformer__num__polynomialfeatures__degree']) * \\\n",
    "                 len(grid['kneighborsclassifier__n_neighbors']) * \\\n",
    "                 len(grid['kneighborsclassifier__weights'])\n",
    "print(f\"Number of combinations tried: {n_combinations}\")"
   ]
  },
  {
   "cell_type": "code",
   "execution_count": 46,
   "id": "633460eb",
   "metadata": {},
   "outputs": [
    {
     "name": "stdout",
     "output_type": "stream",
     "text": [
      "degree\n",
      "2    0.716162\n",
      "3    0.665657\n",
      "Name: mean_test_score, dtype: float64\n",
      "n_neighbors\n",
      "3    0.676941\n",
      "5    0.689394\n",
      "7    0.706392\n",
      "Name: mean_test_score, dtype: float64\n",
      "weights\n",
      "distance    0.693561\n",
      "uniform     0.688258\n",
      "Name: mean_test_score, dtype: float64\n"
     ]
    }
   ],
   "source": [
    "# To identify any trends in changing hyperparameters\n",
    "\n",
    "print(cv_res.groupby('degree')['mean_test_score'].mean())\n",
    "print(cv_res.groupby('n_neighbors')['mean_test_score'].mean())\n",
    "print(cv_res.groupby('weights')['mean_test_score'].mean())\n"
   ]
  },
  {
   "cell_type": "code",
   "execution_count": 47,
   "id": "8d698cdd",
   "metadata": {},
   "outputs": [
    {
     "data": {
      "text/plain": [
       "0     0.126077\n",
       "1     0.285985\n",
       "2     0.054670\n",
       "3     0.285606\n",
       "4     0.059265\n",
       "5     0.285795\n",
       "6     0.141058\n",
       "7     0.353977\n",
       "8     0.128997\n",
       "9     0.335227\n",
       "10    0.060618\n",
       "11    0.292045\n",
       "Name: score_diff, dtype: float64"
      ]
     },
     "execution_count": 47,
     "metadata": {},
     "output_type": "execute_result"
    }
   ],
   "source": [
    "cv_res['score_diff'] = cv_res['mean_train_score'] - cv_res['mean_test_score']\n",
    "cv_res['score_diff']"
   ]
  },
  {
   "cell_type": "code",
   "execution_count": 48,
   "id": "d6820941",
   "metadata": {},
   "outputs": [
    {
     "data": {
      "image/png": "[encoded data removed]",
      "text/plain": [
       "<Figure size 720x432 with 1 Axes>"
      ]
     },
     "metadata": {
      "needs_background": "light"
     },
     "output_type": "display_data"
    }
   ],
   "source": [
    "plt.figure(figsize=(10, 6))\n",
    "sns.scatterplot(data=cv_res, x='mean_fit_time', y='mean_test_score', hue='n_neighbors', palette='coolwarm')\n",
    "plt.xlabel(\"Mean Fit Time (seconds)\")\n",
    "plt.ylabel(\"Mean Test Score\")\n",
    "plt.title(\"Trade-off Between Compute Power and Accuracy\")\n",
    "plt.legend(title=\"K nearest neighbors\")\n",
    "plt.tight_layout()\n",
    "plt.show()"
   ]
  },
  {
   "cell_type": "code",
   "execution_count": 49,
   "id": "3afae0b2",
   "metadata": {},
   "outputs": [
    {
     "data": {
      "image/png": "[encoded data removed]",
      "text/plain": [
       "<Figure size 720x432 with 1 Axes>"
      ]
     },
     "metadata": {
      "needs_background": "light"
     },
     "output_type": "display_data"
    }
   ],
   "source": [
    "plt.figure(figsize=(10, 6))\n",
    "sns.scatterplot(data=cv_res, x='mean_fit_time', y='mean_test_score', hue='degree', palette='coolwarm')\n",
    "plt.xlabel(\"Mean Fit Time (seconds)\")\n",
    "plt.ylabel(\"Mean Test Score\")\n",
    "plt.title(\"Trade-off Between Compute Power and Accuracy\")\n",
    "plt.legend(title=\"Polynomial Degree\")\n",
    "plt.tight_layout()\n",
    "plt.show()"
   ]
  },
  {
   "cell_type": "markdown",
   "id": "927e8f3e",
   "metadata": {},
   "source": [
    "--------------------------------------------\n",
    "\n",
    "**Write your answer below this line**\n",
    "\n",
    "1. We tried 12 combinations;\n",
    "2.\n",
    "3. \n",
    "- A polynomial degree of 2 seems more optimal than 3; \n",
    "- increasing the number of neighbors improves performance; \n",
    "- Distance-based weighting is marginally better than uniform weighting, suggesting that the model benefits from prioritizing closer neighbors.\n",
    "4. \n",
    "- Large gaps (0.25–0.35) suggest overfitting, where the model performs well on training data but poorly on the test set. \n",
    "- Moderate gaps (0.05–0.13) indicate a moderate generalization.\n",
    "- Small gaps (around 0.05) suggest good generalization.\n",
    "5. As you can see form the above grpahs for the polynomial deegree 3rd degree needs less computational power, but the predictive power is lower. Whereas 2nd degree polynomials need more time, but the model's discrimation power is higher. But for this small task such time difference is negligible.\n",
    "\n",
    "--------------------------------------------"
   ]
  },
  {
   "cell_type": "markdown",
   "id": "8a0a3c8e",
   "metadata": {
    "id": "OwYcUWZnrDgP"
   },
   "source": [
    "## **4: Debugging a CNN with Shape Errors**\n",
    "\n",
    "You are provided with a CNN model intended to classify images from the [CIFAR-10](https://www.cs.toronto.edu/~kriz/cifar.html) dataset. However, the model contains shape mismatches between layers due to intentional errors. Your first task is to identify and fix these errors to make the model functional.*testo in corsivo*"
   ]
  },
  {
   "cell_type": "code",
   "execution_count": 50,
   "id": "d941ac13",
   "metadata": {
    "id": "9FPQbEr9rZIL"
   },
   "outputs": [
    {
     "name": "stdout",
     "output_type": "stream",
     "text": [
      "Using device: cpu\n"
     ]
    }
   ],
   "source": [
    "import torch.nn as nn\n",
    "import torch.optim as optim\n",
    "from torchvision import datasets, transforms, models\n",
    "from torch.utils.data import DataLoader, random_split\n",
    "import matplotlib.pyplot as plt\n",
    "import numpy as np\n",
    "import torch\n",
    "\n",
    "# Check if GPU is available\n",
    "device = torch.device('cuda' if torch.cuda.is_available() else 'cpu')\n",
    "print(f'Using device: {device}')"
   ]
  },
  {
   "cell_type": "markdown",
   "id": "776d671f",
   "metadata": {
    "id": "rWx5oYSet38n"
   },
   "source": [
    "### 4.1: Split the CIFAR-10 Dataset"
   ]
  },
  {
   "cell_type": "markdown",
   "id": "0881a353",
   "metadata": {
    "id": "IviQYVL0rbZ5"
   },
   "source": [
    "Instructions:\n",
    "\n",
    "* Define the Split Sizes:\n",
    "Calculate the sizes for the training and validation datasets. Allocate ***80% of the training*** data for the training set and *20% for the validation set*.\n",
    "\n",
    "* Split the Dataset:\n",
    "Use `torch.utils.data.random_split` to create the training and validation datasets from the original training dataset.\n",
    "\n",
    "* Create Data Loaders:\n",
    "Create data loaders for the training, validation, and test datasets using torch.utils.data.DataLoader with a ***batch size of 64***. Ensure that the training data is ***shuffled***.\n",
    "\n",
    "* Print the size of each dataset (train, test, val)"
   ]
  },
  {
   "cell_type": "code",
   "execution_count": 51,
   "id": "c5b82813",
   "metadata": {
    "id": "R3Tc8O6zrh6v"
   },
   "outputs": [
    {
     "name": "stdout",
     "output_type": "stream",
     "text": [
      "Downloading https://www.cs.toronto.edu/~kriz/cifar-10-python.tar.gz to ./data\\cifar-10-python.tar.gz\n"
     ]
    },
    {
     "name": "stderr",
     "output_type": "stream",
     "text": [
      "100%|██████████| 170498071/170498071 [00:08<00:00, 20285763.14it/s]\n"
     ]
    },
    {
     "name": "stdout",
     "output_type": "stream",
     "text": [
      "Extracting ./data\\cifar-10-python.tar.gz to ./data\n",
      "Files already downloaded and verified\n",
      "Train dataset size: 40000\n",
      "Validation dataset size: 10000\n",
      "Test dataset size: 10000\n"
     ]
    }
   ],
   "source": [
    "# Define transformations for the data that we will use\n",
    "transform = transforms.Compose([\n",
    "    transforms.ToTensor(),\n",
    "])\n",
    "\n",
    "# Load the CIFAR-10 dataset\n",
    "full_train_dataset = datasets.CIFAR10(root='./data', train=True, download=True, transform=transform)\n",
    "test_dataset = datasets.CIFAR10(root='./data', train=False, download=True, transform=transform)\n",
    "\n",
    "# Define the sizes for training and validation splits\n",
    "train_size = int(0.8 * len(full_train_dataset))\n",
    "val_size = len(full_train_dataset) - train_size\n",
    "\n",
    "# Split the dataset\n",
    "train_dataset, val_dataset = random_split(full_train_dataset, [train_size, val_size])\n",
    "\n",
    "# Create DataLoaders with a batch size of 64\n",
    "train_loader = DataLoader(train_dataset, batch_size=64, shuffle=True)\n",
    "val_loader = DataLoader(val_dataset, batch_size=64, shuffle=False)\n",
    "test_loader = DataLoader(test_dataset, batch_size=64, shuffle=False)\n",
    "\n",
    "# Print the sizes of the datasets\n",
    "print(f\"Train dataset size: {len(train_dataset)}\")\n",
    "print(f\"Validation dataset size: {len(val_dataset)}\")\n",
    "print(f\"Test dataset size: {len(test_dataset)}\")\n"
   ]
  },
  {
   "cell_type": "markdown",
   "id": "96ba0401",
   "metadata": {
    "id": "8WWMSLDSt9j7"
   },
   "source": [
    "### 4.2: Identify and Correct Errors in the CNN Model\n"
   ]
  },
  {
   "cell_type": "markdown",
   "id": "5806744d",
   "metadata": {
    "id": "Laxva2bSrodv"
   },
   "source": [
    "In this exercise, you will analyze an intentionally incorrect implementation of a Convolutional Neural Network model. Your task is to identify the errors in the `PoorPerformingCNN` class and correct them to ensure the model works properly for the CIFAR-10 dataset.\n",
    "\n",
    "--------------------------------------------\n",
    "\n",
    "**Fill in the code in `libs/models/poor_cnn.py**\n",
    "\n",
    "--------------------------------------------"
   ]
  },
  {
   "cell_type": "code",
   "execution_count": 52,
   "id": "84d190e2",
   "metadata": {
    "id": "3qRf7YUAr49u"
   },
   "outputs": [],
   "source": [
    "from libs.models.poor_cnn import PoorPerformingCNN\n",
    "\n",
    "net = PoorPerformingCNN()"
   ]
  },
  {
   "cell_type": "markdown",
   "id": "5bfb7e81",
   "metadata": {
    "id": "CwRxKCRMsUiU"
   },
   "source": [
    "Loss Function and optimizer"
   ]
  },
  {
   "cell_type": "code",
   "execution_count": 53,
   "id": "f73233d5",
   "metadata": {
    "id": "lQ_9fKCfsV3X"
   },
   "outputs": [],
   "source": [
    "# Define loss function and optimizer\n",
    "criterion = nn.CrossEntropyLoss()\n",
    "optimizer = optim.Adam(net.parameters(), lr=0.001)"
   ]
  },
  {
   "cell_type": "markdown",
   "id": "05b442d3",
   "metadata": {
    "id": "RSm7aXCJuE1I"
   },
   "source": [
    "### 4.3: Training procedure\n",
    "\n",
    "In this exercise, you will complete the training and validation loop of a neural network model. Your task is to compute and store the average training loss, average validation loss, and the corresponding accuracies for each epoch.\n",
    "\n",
    "Instructions:\n",
    "\n",
    "* **Training Phase**:\n",
    "After computing the average training loss (avg_train_loss), you need to calculate the training accuracy based on the model's predictions and append the calculated training accuracy to the train_accuracies list.\n",
    "\n",
    "* **Validation Phase**:\n",
    "After calculating the average validation loss (avg_val_loss), you need to calculate the validation accuracy based on the validation dataset and append the calculated validation accuracy to the val_accuracies list. (the same as befor but for the val)"
   ]
  },
  {
   "cell_type": "code",
   "execution_count": 54,
   "id": "3858bb39",
   "metadata": {
    "id": "RSUv7VMdsblF"
   },
   "outputs": [
    {
     "name": "stdout",
     "output_type": "stream",
     "text": [
      "Epoch 1, Average Training Loss: 1.6405, Training Accuracy: 0.4165\n",
      "Epoch 1, Average Validation Loss: 1.3938, Validation Accuracy: 0.5047\n",
      "Epoch 2, Average Training Loss: 1.3047, Training Accuracy: 0.5437\n",
      "Epoch 2, Average Validation Loss: 1.2380, Validation Accuracy: 0.5638\n",
      "Epoch 3, Average Training Loss: 1.1841, Training Accuracy: 0.5891\n",
      "Epoch 3, Average Validation Loss: 1.1709, Validation Accuracy: 0.5882\n",
      "Epoch 4, Average Training Loss: 1.1132, Training Accuracy: 0.6169\n",
      "Epoch 4, Average Validation Loss: 1.1264, Validation Accuracy: 0.6062\n",
      "Epoch 5, Average Training Loss: 1.0529, Training Accuracy: 0.6352\n",
      "Epoch 5, Average Validation Loss: 1.0843, Validation Accuracy: 0.6226\n",
      "Epoch 6, Average Training Loss: 1.0041, Training Accuracy: 0.6542\n",
      "Epoch 6, Average Validation Loss: 1.0260, Validation Accuracy: 0.6433\n",
      "Epoch 7, Average Training Loss: 0.9648, Training Accuracy: 0.6665\n",
      "Epoch 7, Average Validation Loss: 1.0184, Validation Accuracy: 0.6461\n",
      "Epoch 8, Average Training Loss: 0.9315, Training Accuracy: 0.6778\n",
      "Epoch 8, Average Validation Loss: 1.0012, Validation Accuracy: 0.6516\n",
      "Epoch 9, Average Training Loss: 0.9029, Training Accuracy: 0.6897\n",
      "Epoch 9, Average Validation Loss: 1.0460, Validation Accuracy: 0.6429\n",
      "Epoch 10, Average Training Loss: 0.8752, Training Accuracy: 0.6986\n",
      "Epoch 10, Average Validation Loss: 0.9896, Validation Accuracy: 0.6660\n",
      "Finished Training\n"
     ]
    }
   ],
   "source": [
    "import torch.nn as nn\n",
    "import torch.optim as optim\n",
    "\n",
    "# Define loss function and optimizer\n",
    "criterion = nn.CrossEntropyLoss()\n",
    "optimizer = optim.Adam(net.parameters(), lr=0.001)\n",
    "\n",
    "# Define the number of epochs\n",
    "num_epochs = 10\n",
    "\n",
    "# Initialize lists to store metrics\n",
    "train_losses = []\n",
    "val_losses = []\n",
    "train_accuracies = []\n",
    "val_accuracies = []\n",
    "\n",
    "# Training loop\n",
    "for epoch in range(num_epochs):\n",
    "    running_loss = 0.0\n",
    "    total_batches = 0\n",
    "\n",
    "    # Training Phase\n",
    "    net.train()\n",
    "    correct_train = 0\n",
    "    total_train = 0\n",
    "\n",
    "    for i, data in enumerate(train_loader, 0):\n",
    "        inputs, labels = data\n",
    "\n",
    "        # Zero the parameter gradients\n",
    "        optimizer.zero_grad()\n",
    "\n",
    "        # Forward pass\n",
    "        outputs = net(inputs)\n",
    "\n",
    "        # Compute loss\n",
    "        loss = criterion(outputs, labels)\n",
    "\n",
    "        # Backward pass and optimization\n",
    "        loss.backward()\n",
    "        optimizer.step()\n",
    "\n",
    "        running_loss += loss.item()\n",
    "        total_batches += 1\n",
    "\n",
    "        # Calculate training accuracy\n",
    "        _, predicted_train = torch.max(outputs.data, 1)\n",
    "        total_train += labels.size(0)\n",
    "        correct_train += (predicted_train == labels).sum().item()\n",
    "\n",
    "    # Calculate average loss for the training epoch\n",
    "    avg_train_loss = running_loss / total_batches\n",
    "    train_losses.append(avg_train_loss)\n",
    "\n",
    "    # Calculate training accuracy\n",
    "    train_accuracy = correct_train / total_train\n",
    "    train_accuracies.append(train_accuracy)\n",
    "\n",
    "    print(f'Epoch {epoch + 1}, Average Training Loss: {avg_train_loss:.4f}, Training Accuracy: {train_accuracy:.4f}')\n",
    "\n",
    "    # Validation Phase\n",
    "    net.eval()\n",
    "    val_running_loss = 0.0\n",
    "    correct_val = 0\n",
    "    total_val = 0\n",
    "\n",
    "    with torch.no_grad():\n",
    "        for val_data in val_loader:\n",
    "            val_inputs, val_labels = val_data\n",
    "\n",
    "            # Forward pass\n",
    "            val_outputs = net(val_inputs)\n",
    "\n",
    "            # Compute loss\n",
    "            val_loss = criterion(val_outputs, val_labels)\n",
    "            val_running_loss += val_loss.item()\n",
    "\n",
    "            # Calculate validation accuracy\n",
    "            _, val_predicted = torch.max(val_outputs.data, 1)\n",
    "            total_val += val_labels.size(0)\n",
    "            correct_val += (val_predicted == val_labels).sum().item()\n",
    "\n",
    "    # Calculate average loss for the validation epoch\n",
    "    avg_val_loss = val_running_loss / len(val_loader)\n",
    "    val_losses.append(avg_val_loss)\n",
    "\n",
    "    # Calculate validation accuracy\n",
    "    val_accuracy = correct_val / total_val\n",
    "    val_accuracies.append(val_accuracy)\n",
    "\n",
    "    print(f'Epoch {epoch + 1}, Average Validation Loss: {avg_val_loss:.4f}, Validation Accuracy: {val_accuracy:.4f}')\n",
    "\n",
    "print('Finished Training')\n"
   ]
  },
  {
   "cell_type": "markdown",
   "id": "6bb35d88",
   "metadata": {
    "id": "WhmPPQf9sh37"
   },
   "source": [
    "### 4.4: Evaluate"
   ]
  },
  {
   "cell_type": "code",
   "execution_count": 55,
   "id": "e248e772",
   "metadata": {
    "id": "Bo6vZmsUsjyr"
   },
   "outputs": [
    {
     "name": "stdout",
     "output_type": "stream",
     "text": [
      "Accuracy on the test images: 66.34%\n"
     ]
    }
   ],
   "source": [
    "correct = 0\n",
    "total = 0\n",
    "\n",
    "with torch.no_grad():\n",
    "    for data in test_loader:\n",
    "        images, labels = data\n",
    "        outputs = net(images)\n",
    "        _, predicted = torch.max(outputs.data, 1)\n",
    "\n",
    "\n",
    "        total += labels.size(0)  # Total number of labels in the batch\n",
    "        correct += (predicted == labels).sum().item()  # Count of correct predictions\n",
    "\n",
    "\n",
    "print(f'Accuracy on the test images: {100 * correct / total:.2f}%')\n"
   ]
  },
  {
   "cell_type": "markdown",
   "id": "2df9755d",
   "metadata": {
    "id": "7kX4nLdOssWw"
   },
   "source": [
    "### 4.5: Report\n",
    "\n",
    "1. What challenges can class imbalance introduce when training a machine learning model?\n",
    "\n",
    "2. What are some strategies to address class imbalance in your dataset or training process?\n",
    "\n",
    "3. Why might accuracy alone be misleading as a performance measure in the presence of class imbalance\n",
    "\n",
    "4. Is the cifar-10 and imbalanced dataset? plot the number of samples for each classes inside the cifar 10 dataset.\n",
    "\n",
    "-------------------------------------------------------\n",
    "\n",
    "\n",
    "**WRITE YOUR ANSWER HERE:**\n",
    "\n",
    "1. Bias Toward Majority Classes: Models often become biased toward the majority class because the optimization process prioritizes minimizing overall loss, which is influenced more by the larger classes.\n",
    "Poor Performance on Minority Classes: Minority classes may be underrepresented, leading to poor recall, precision, and generalization for those classes.\n",
    "Misleading Accuracy: A model can achieve high accuracy by focusing solely on predicting the majority class, even if minority classes are completely ignored.\n",
    "\n",
    "2. Data-Level Approaches:\n",
    "Oversampling: Duplicate or synthesize samples from minority classes (e.g., SMOTE).\n",
    "Undersampling: Remove samples from majority classes to balance the dataset.\n",
    "Data Augmentation: Apply transformations (e.g., rotation, flipping) to increase the diversity of minority class samples.\n",
    "Algorithm-Level Approaches:\n",
    "Weighted Loss Functions: Assign higher weights to the loss of minority class samples.\n",
    "Class-Balanced Sampling: Sample batches such that each class is equally represented during training.\n",
    "Evaluation Metric Adjustments:\n",
    "Use metrics like F1-score, precision, recall, and ROC-AUC that provide more granular insights into performance.\n",
    "\n",
    "3. Accuracy Favors Majority Classes: A model that predicts only the majority class can achieve high accuracy while completely ignoring minority classes.\n",
    "Doesn't Capture True Performance: Accuracy does not reflect how well the model performs on the minority class, which may be of more interest in certain applications (e.g., fraud detection, medical diagnosis).\n",
    "No Class-Specific Information: Metrics like precision, recall, and F1-score are needed to understand per-class performance.\n",
    "\n",
    "4. CIFAR-10 is not inherently imbalanced. Each of the 10 classes in CIFAR-10 typically contains an equal number of samples (5,000 for training and 1,000 for testing).\n",
    "\n",
    "-------------------------------------------------------"
   ]
  },
  {
   "cell_type": "markdown",
   "id": "57cad5b7",
   "metadata": {},
   "source": [
    "### CODE FOR 4TH QUEESTION\n"
   ]
  },
  {
   "cell_type": "code",
   "execution_count": 56,
   "id": "bd907b86",
   "metadata": {},
   "outputs": [
    {
     "data": {
      "image/png": "[encoded data removed]",
      "text/plain": [
       "<Figure size 432x288 with 1 Axes>"
      ]
     },
     "metadata": {
      "needs_background": "light"
     },
     "output_type": "display_data"
    },
    {
     "data": {
      "image/png": "[encoded data removed]",
      "text/plain": [
       "<Figure size 432x288 with 1 Axes>"
      ]
     },
     "metadata": {
      "needs_background": "light"
     },
     "output_type": "display_data"
    }
   ],
   "source": [
    "import matplotlib.pyplot as plt\n",
    "from collections import Counter\n",
    "\n",
    "# Get the labels from the CIFAR-10 dataset\n",
    "train_labels = [label for _, label in full_train_dataset]\n",
    "test_labels = [label for _, label in test_dataset]\n",
    "\n",
    "# Count the number of samples in each class\n",
    "train_counts = Counter(train_labels)\n",
    "test_counts = Counter(test_labels)\n",
    "\n",
    "# Access the class names using the `classes` attribute of the dataset instance\n",
    "class_names = full_train_dataset.classes\n",
    "\n",
    "# Plot the counts for training data\n",
    "plt.bar(class_names, [train_counts[i] for i in range(10)])\n",
    "plt.title(\"Number of Samples per Class in Training Data\")\n",
    "plt.xlabel(\"Class\")\n",
    "plt.ylabel(\"Number of Samples\")\n",
    "plt.xticks(rotation=45)\n",
    "plt.show()\n",
    "\n",
    "# Plot the counts for testing data\n",
    "plt.bar(class_names, [test_counts[i] for i in range(10)])\n",
    "plt.title(\"Number of Samples per Class in Testing Data\")\n",
    "plt.xlabel(\"Class\")\n",
    "plt.ylabel(\"Number of Samples\")\n",
    "plt.xticks(rotation=45)\n",
    "plt.show()\n"
   ]
  },
  {
   "cell_type": "markdown",
   "id": "18cb829e",
   "metadata": {
    "id": "zgB9zLE6s04N"
   },
   "source": [
    "## **5: Improve the accuracy** (BONUS)"
   ]
  },
  {
   "cell_type": "markdown",
   "id": "5c289bcd",
   "metadata": {
    "id": "Lm7RZNOltsWf"
   },
   "source": [
    "### 5.1: Custom model\n",
    "\n",
    "After successfully debugging the model, you'll notice that the accuracy on the CIFAR-10 dataset is only around 50-60%. Your second task is to improve the model's performance.\n",
    "\n",
    "How?\n",
    "\n",
    "*   Add more convolutional layers to capture higher-level features.\n",
    "*   Use Batch Normalization\n",
    "*   Add Dropout Layers\n",
    "\n",
    "Data Augmentation:\n",
    "*   Apply transformations like random cropping, flipping, and rotation.\n",
    "\n",
    "Hint: You CAN implement already pre-existing CNN architectures (do your research). As long as it is a CNN everything is fine.\n",
    "\n",
    "By the end of this section you should return the accuracy of your model on the test dataset.\n",
    "\n",
    "NB: by better score we mean at least +10% with respect to the previous model.\n",
    "\n",
    "\n",
    "\n"
   ]
  },
  {
   "cell_type": "code",
   "execution_count": 57,
   "id": "9b2ea8c6",
   "metadata": {
    "id": "CZNA68C5s2Is"
   },
   "outputs": [
    {
     "name": "stdout",
     "output_type": "stream",
     "text": [
      "Files already downloaded and verified\n",
      "Files already downloaded and verified\n"
     ]
    }
   ],
   "source": [
    "import torch\n",
    "import torch.nn as nn\n",
    "import torch.nn.functional as F\n",
    "# Define transformations for the data\n",
    "transform = transforms.Compose([\n",
    "    transforms.ToTensor()\n",
    "])\n",
    "\n",
    "# Load the CIFAR-10 dataset\n",
    "train_dataset = datasets.CIFAR10(root='./data', train=True, download=True, transform=transform)\n",
    "test_dataset  = datasets.CIFAR10(root='./data', train=False, download=True, transform=transform)\n",
    "\n",
    "# Create data loaders\n",
    "batch_size = 64\n",
    "train_loader = DataLoader(dataset=train_dataset, batch_size=batch_size, shuffle=True)\n",
    "test_loader  = DataLoader(dataset=test_dataset, batch_size=batch_size, shuffle=False)\n"
   ]
  },
  {
   "cell_type": "markdown",
   "id": "4486bead",
   "metadata": {},
   "source": [
    "--------------------------------------------\n",
    "\n",
    "**Fill in the code in `libs/models/custom_cnn.py**\n",
    "\n",
    "--------------------------------------------"
   ]
  },
  {
   "cell_type": "code",
   "execution_count": 58,
   "id": "30575ec4",
   "metadata": {
    "id": "5TX-5wRmtIAt"
   },
   "outputs": [],
   "source": [
    "from libs.models.custom_cnn import CustomCNN\n",
    "\n",
    "net = CustomCNN().to(device)"
   ]
  },
  {
   "cell_type": "markdown",
   "id": "ecba4705",
   "metadata": {
    "id": "FstE7TPStY-n"
   },
   "source": [
    "#### Training"
   ]
  },
  {
   "cell_type": "code",
   "execution_count": 59,
   "id": "f0ba8675",
   "metadata": {
    "id": "zDjiBMdTtVcI"
   },
   "outputs": [
    {
     "name": "stdout",
     "output_type": "stream",
     "text": [
      "Epoch 1, Loss: 1.4193\n",
      "Epoch 2, Loss: 1.1125\n",
      "Epoch 3, Loss: 1.0019\n",
      "Epoch 4, Loss: 0.9296\n",
      "Epoch 5, Loss: 0.8795\n",
      "Epoch 6, Loss: 0.8432\n",
      "Epoch 7, Loss: 0.8082\n",
      "Epoch 8, Loss: 0.7886\n",
      "Epoch 9, Loss: 0.7600\n",
      "Epoch 10, Loss: 0.7437\n",
      "Finished Training\n"
     ]
    }
   ],
   "source": [
    "criterion = nn.CrossEntropyLoss()\n",
    "optimizer = optim.Adam(net.parameters(), lr=0.001, weight_decay=5e-05)\n",
    "\n",
    "# Training loop\n",
    "num_epochs = 10\n",
    "for epoch in range(num_epochs):\n",
    "    net.train()\n",
    "    running_loss = 0.0\n",
    "    for i, data in enumerate(train_loader, 0):\n",
    "        inputs, labels = data\n",
    "        inputs, labels = inputs.to(device), labels.to(device)\n",
    "        optimizer.zero_grad()\n",
    "        outputs = net(inputs)\n",
    "        loss = criterion(outputs, labels)\n",
    "\n",
    "        loss.backward()\n",
    "        optimizer.step()\n",
    "\n",
    "        running_loss += loss.item()\n",
    "\n",
    "    print(f'Epoch {epoch + 1}, Loss: {running_loss / len(train_loader):.4f}')\n",
    "\n",
    "print('Finished Training')\n"
   ]
  },
  {
   "cell_type": "markdown",
   "id": "350ceb57",
   "metadata": {
    "id": "vi3EBTq_tXYL"
   },
   "source": [
    "#### Evaluation"
   ]
  },
  {
   "cell_type": "code",
   "execution_count": 60,
   "id": "fd7550f6",
   "metadata": {
    "id": "mNOjqxdwtW99"
   },
   "outputs": [
    {
     "name": "stdout",
     "output_type": "stream",
     "text": [
      "Accuracy on the test images: 71.44%\n"
     ]
    }
   ],
   "source": [
    "# Evaluate the model\n",
    "net.eval()\n",
    "correct = 0\n",
    "total = 0\n",
    "with torch.no_grad():\n",
    "    for data in test_loader:\n",
    "        images, labels = data\n",
    "        images, labels = images.to(device), labels.to(device)\n",
    "\n",
    "        outputs = net(images)\n",
    "        _, predicted = torch.max(outputs.data, 1)\n",
    "        total += labels.size(0)\n",
    "        correct += (predicted == labels).sum().item()\n",
    "\n",
    "print(f'Accuracy on the test images: {100 * correct / total:.2f}%')"
   ]
  },
  {
   "cell_type": "markdown",
   "id": "f0c58dfb",
   "metadata": {
    "id": "KICkuQv9tbJk"
   },
   "source": [
    "\n",
    "### 5.2: Pretrained network\n",
    "In this exercise, you will start from scratch to adapt a pre-trained AlexNet model for the CIFAR-10 dataset.\n",
    "\n",
    "Instructions\n",
    "\n",
    "- Use torchvision.models to load a pre-trained AlexNet. Be sure to specify that the model should be pre-trained on ImageNet.\n",
    "\n",
    "- The CIFAR-10 dataset has 10 classes, so you need to update the model’s final layer to output 10 classes instead of the default 1000.\n",
    "\n",
    "- Replace the final fully connected layer in AlexNet’s classifier to output 10 classes.\n",
    "\n",
    "- To perform fine-tuning, freeze all layers except the newly added fully connected layer.\n",
    "\n",
    "- Move your model to the appropriate device (cuda if available). Define a device and ensure the model is moved to that device.\n"
   ]
  },
  {
   "cell_type": "code",
   "execution_count": 61,
   "id": "ba5ee586",
   "metadata": {
    "id": "3DsgJ10RtjPS"
   },
   "outputs": [
    {
     "name": "stdout",
     "output_type": "stream",
     "text": [
      "Files already downloaded and verified\n",
      "Files already downloaded and verified\n"
     ]
    }
   ],
   "source": [
    "# Define transformations for the data\n",
    "transform = transforms.Compose([\n",
    "    transforms.Resize((224, 224)),\n",
    "    transforms.ToTensor(),\n",
    "    transforms.Normalize(mean=[0.485, 0.456, 0.406], std=[0.229, 0.224, 0.225])\n",
    "])\n",
    "\n",
    "# Load the CIFAR-10 dataset\n",
    "train_dataset = datasets.CIFAR10(root='./data', train=True, download=True, transform=transform)\n",
    "test_dataset = datasets.CIFAR10(root='./data', train=False, download=True, transform=transform)\n",
    "\n",
    "# Create data loaders\n",
    "batch_size = 64\n",
    "train_loader = DataLoader(dataset=train_dataset, batch_size=batch_size, shuffle=True)\n",
    "test_loader = DataLoader(dataset=test_dataset, batch_size=batch_size, shuffle=False)\n"
   ]
  },
  {
   "cell_type": "code",
   "execution_count": 62,
   "id": "32b8400e",
   "metadata": {
    "id": "eLCv9hY7tkBG"
   },
   "outputs": [
    {
     "name": "stdout",
     "output_type": "stream",
     "text": [
      "Files already downloaded and verified\n",
      "Files already downloaded and verified\n"
     ]
    },
    {
     "name": "stderr",
     "output_type": "stream",
     "text": [
      "c:\\ProgramData\\Anaconda3\\lib\\site-packages\\torchvision\\models\\_utils.py:208: UserWarning: The parameter 'pretrained' is deprecated since 0.13 and may be removed in the future, please use 'weights' instead.\n",
      "  warnings.warn(\n",
      "c:\\ProgramData\\Anaconda3\\lib\\site-packages\\torchvision\\models\\_utils.py:223: UserWarning: Arguments other than a weight enum or `None` for 'weights' are deprecated since 0.13 and may be removed in the future. The current behavior is equivalent to passing `weights=AlexNet_Weights.IMAGENET1K_V1`. You can also use `weights=AlexNet_Weights.DEFAULT` to get the most up-to-date weights.\n",
      "  warnings.warn(msg)\n",
      "Downloading: \"https://download.pytorch.org/models/alexnet-owt-7be5be79.pth\" to C:\\Users\\skhizanishvili/.cache\\torch\\hub\\checkpoints\\alexnet-owt-7be5be79.pth\n",
      "100%|██████████| 233M/233M [00:02<00:00, 99.7MB/s] \n"
     ]
    }
   ],
   "source": [
    "import torch\n",
    "import torch.nn as nn\n",
    "import torch.optim as optim\n",
    "from torchvision import models, datasets, transforms\n",
    "from torch.utils.data import DataLoader\n",
    "\n",
    "# Define transformations for the data\n",
    "transform = transforms.Compose([\n",
    "    transforms.Resize((224, 224)),  # Resize images to 224x224 for AlexNet\n",
    "    transforms.ToTensor(),\n",
    "    transforms.Normalize(mean=[0.485, 0.456, 0.406],  # ImageNet mean\n",
    "                         std=[0.229, 0.224, 0.225])   # ImageNet std\n",
    "])\n",
    "\n",
    "# Load the CIFAR-10 dataset\n",
    "train_dataset = datasets.CIFAR10(root='./data', train=True, download=True, transform=transform)\n",
    "test_dataset = datasets.CIFAR10(root='./data', train=False, download=True, transform=transform)\n",
    "\n",
    "# Create data loaders\n",
    "batch_size = 64\n",
    "train_loader = DataLoader(dataset=train_dataset, batch_size=batch_size, shuffle=True)\n",
    "test_loader = DataLoader(dataset=test_dataset, batch_size=batch_size, shuffle=False)\n",
    "\n",
    "# Define device\n",
    "device = torch.device('cuda' if torch.cuda.is_available() else 'cpu')\n",
    "\n",
    "\n",
    "# Load pre-trained AlexNet\n",
    "model = models.alexnet(pretrained=True)\n",
    "\n",
    "# Freeze all layers except the final fully connected layer\n",
    "for param in model.parameters():\n",
    "    param.requires_grad = False\n",
    "\n",
    "# Replace the final layer to match CIFAR-10 (10 classes)\n",
    "num_features = model.classifier[6].in_features\n",
    "model.classifier[6] = nn.Linear(num_features, 10)\n",
    "\n",
    "\n",
    "# Move model to the appropriate device\n",
    "model = model.to(device)\n"
   ]
  },
  {
   "cell_type": "code",
   "execution_count": 63,
   "id": "09bfc3c4",
   "metadata": {
    "id": "5-t3hEZGtmSo"
   },
   "outputs": [
    {
     "name": "stdout",
     "output_type": "stream",
     "text": [
      "Epoch 1, Loss: 0.7253\n",
      "Finished Training\n",
      "Accuracy on the test images: 80.60%\n"
     ]
    }
   ],
   "source": [
    "criterion = nn.CrossEntropyLoss()\n",
    "optimizer = optim.Adam(model.parameters(), lr=0.001, weight_decay=5e-05)\n",
    "\n",
    "# Training loop\n",
    "num_epochs = 1\n",
    "for epoch in range(num_epochs):\n",
    "    model.train()\n",
    "    running_loss = 0.0\n",
    "    for i, data in enumerate(train_loader, 0):\n",
    "        inputs, labels = data\n",
    "        inputs, labels = inputs.to(device), labels.to(device)\n",
    "        optimizer.zero_grad()\n",
    "        outputs = model(inputs)\n",
    "        loss = criterion(outputs, labels)\n",
    "        loss.backward()\n",
    "        optimizer.step()\n",
    "\n",
    "        running_loss += loss.item()\n",
    "\n",
    "    print(f'Epoch {epoch + 1}, Loss: {running_loss / len(train_loader):.4f}')\n",
    "\n",
    "print('Finished Training')\n",
    "\n",
    "# Evaluate the model\n",
    "model.eval()\n",
    "correct = 0\n",
    "total = 0\n",
    "with torch.no_grad():\n",
    "    for data in test_loader:\n",
    "        images, labels = data\n",
    "        images, labels = images.to(device), labels.to(device)\n",
    "\n",
    "        outputs = model(images)\n",
    "        _, predicted = torch.max(outputs.data, 1)\n",
    "        total += labels.size(0)\n",
    "        correct += (predicted == labels).sum().item()\n",
    "\n",
    "print(f'Accuracy on the test images: {100 * correct / total:.2f}%')"
   ]
  },
  {
   "cell_type": "code",
   "execution_count": null,
   "id": "57f23736",
   "metadata": {},
   "outputs": [],
   "source": []
  }
 ],
 "metadata": {
  "kernelspec": {
   "display_name": "base",
   "language": "python",
   "name": "python3"
  },
  "language_info": {
   "codemirror_mode": {
    "name": "ipython",
    "version": 3
   },
   "file_extension": ".py",
   "mimetype": "text/x-python",
   "name": "python",
   "nbconvert_exporter": "python",
   "pygments_lexer": "ipython3",
   "version": "3.8.5"
  }
 },
 "nbformat": 4,
 "nbformat_minor": 5
}
